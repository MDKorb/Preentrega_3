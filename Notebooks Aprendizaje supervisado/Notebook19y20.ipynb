{
  "cells": [
    {
      "cell_type": "markdown",
      "metadata": {
        "id": "JgYE0dr1fpGN"
      },
      "source": [
        "# Programa Ingenias+ Data Science"
      ]
    },
    {
      "cell_type": "markdown",
      "metadata": {
        "id": "jP-GhJxKfpGS"
      },
      "source": [
        "## ✏️ Ejercitación: Aprendizaje Supervisado"
      ]
    },
    {
      "cell_type": "markdown",
      "metadata": {
        "id": "10JU_M_YfpGT"
      },
      "source": [
        "Esta notebook les permitiria integrar y ejercitar los conceptos de Pandas 🐼 , Analisis Exploratorio, Procesamiento de datos 📊 y aprendizaje automatico que aprendimos hasta ahora.\n",
        "\n",
        "En este caso, vamos a trabajar con dos dataset nuevos. El primer dataset contiene sobre [cancer de mamá](https://archive.ics.uci.edu/ml/datasets/Breast+Cancer) y es adecuado para problemas de clasificación. El segundo dataset contiene datos sobre [venta de autos](https://www.kaggle.com/sanskrutipanda/car-pricing-prediction) y es adecuado para problemas de regresión.\n",
        "\n",
        "El objetivo de este projecto es ajustar modelos de regresión y clasificación. Luego mediante las metricas que hemos estudiados, elegir aquel que mejor desempeño tuvo (para cada tipo de problema).\n",
        "\n",
        "Como son datasets nuevos y no los conocemos, debemos comenzar nuestro análisis desde zero. Eso significa que debes realizar un análisis exploratorio y el correspondiente procesamiento y transformación de los datos. El análisis exploratorio te permitira hacerte preguntas sobre los datos y poder luego, elegir que modelos es posible ajustar según que variable deseas predecir y las caracteristicas de las variables independendientes.\n",
        "\n",
        "En la Notebook se sugieren dos algoritmos en cada caso. Sin embargo, pueden elegir otros. La idea es que piensen porque esos algoritmos serían utiles en nuestro caso. Y que ventaja tiene usar cada uno. A su vez, realicen la evaluación de los modelos y decidan porque elegirian uno sobre el otro."
      ]
    },
    {
      "cell_type": "markdown",
      "metadata": {
        "id": "HqjmkEsDfpGW"
      },
      "source": [
        "### 🚀 👩🏽‍💻 Aprendizaje Supervisado 📣"
      ]
    },
    {
      "cell_type": "code",
      "execution_count": null,
      "metadata": {
        "id": "PlF678jMfpGU"
      },
      "outputs": [],
      "source": [
        "import pandas as pd\n",
        "import numpy as np\n",
        "import matplotlib.pyplot as plt\n",
        "import seaborn as sns\n",
        "import matplotlib.cm as cm"
      ]
    },
    {
      "cell_type": "code",
      "execution_count": null,
      "metadata": {
        "id": "0DAu7UaBfpGU"
      },
      "outputs": [],
      "source": [
        "from sklearn.preprocessing import LabelEncoder\n",
        "from sklearn.impute import SimpleImputer\n",
        "from sklearn.model_selection import train_test_split"
      ]
    },
    {
      "cell_type": "markdown",
      "metadata": {
        "id": "vA18s-9efpGX"
      },
      "source": [
        "# Notebook 19\n",
        "\n",
        "### 1) Clasificación 🟢 🟣 🟡"
      ]
    },
    {
      "cell_type": "code",
      "execution_count": null,
      "metadata": {
        "id": "yS1a4fBVfpGV"
      },
      "outputs": [],
      "source": [
        "# Funcion auxiliar feature importance\n",
        "def feature_importance(model, feature_list):\n",
        "    \"\"\"\n",
        "    Function that gets and plots the feature importance\n",
        "    for the given model\n",
        "    :param model: the model to evaluaate\n",
        "    :param feature_list: a list of features contained in the model\n",
        "\n",
        "    :returns a plot with feature importance\n",
        "    \"\"\"\n",
        "    # Obtiene la lista de importancias\n",
        "    importances = list(model.feature_importances_)\n",
        "    # Junta los nombres de los atributos y las importancias\n",
        "    feature_importances = [(feature, round(importance, 2)) for feature, importance in zip(feature_list, importances)]\n",
        "    # Ordena por orden de importancia\n",
        "    feature_importances = sorted(feature_importances, key = lambda x: x[1], reverse = True)\n",
        "    # Print la lista de importancias\n",
        "    [print('Variable: {} Importance: {}'.format(*pair)) for pair in feature_importances];\n",
        "    # Colores\n",
        "    colors = cm.rainbow(np.linspace(0, 1, len(feature_list)))\n",
        "\n",
        "    # Caracteristicas en orden de importancia\n",
        "    characteristics = [x[0] for x in feature_importances]\n",
        "    # Obtiene las importancias\n",
        "    importances_plot = [x[1] for x in feature_importances]\n",
        "    # Grafica un bar plot\n",
        "    plt.bar(characteristics, importances_plot, color=colors)\n",
        "    # Personalizamos el grafico\n",
        "    plt.xticks(list(range(len(characteristics))), characteristics, rotation = 90)\n",
        "    plt.gca().spines['top'].set_visible(False)\n",
        "    plt.gca().spines['bottom'].set_visible(False)\n",
        "    plt.gca().spines['left'].set_visible(False)\n",
        "    plt.gca().spines['right'].set_visible(False)\n",
        "    plt.gcf().subplots_adjust(bottom=0.3);"
      ]
    },
    {
      "cell_type": "markdown",
      "metadata": {
        "id": "rXqE-DdFfpGX"
      },
      "source": [
        "Primero, vamos a leer los datos para la clasificación."
      ]
    },
    {
      "cell_type": "code",
      "execution_count": null,
      "metadata": {
        "id": "MzcL3xcQfpGY"
      },
      "outputs": [],
      "source": [
        "clasificacion = pd.read_csv('cancer_mamario.csv')"
      ]
    },
    {
      "cell_type": "code",
      "execution_count": null,
      "metadata": {
        "id": "I48vCJS3fpGY",
        "outputId": "628a53b9-b0de-4a86-91eb-f040c81a4a8f"
      },
      "outputs": [
        {
          "data": {
            "text/html": [
              "<div>\n",
              "<style scoped>\n",
              "    .dataframe tbody tr th:only-of-type {\n",
              "        vertical-align: middle;\n",
              "    }\n",
              "\n",
              "    .dataframe tbody tr th {\n",
              "        vertical-align: top;\n",
              "    }\n",
              "\n",
              "    .dataframe thead th {\n",
              "        text-align: right;\n",
              "    }\n",
              "</style>\n",
              "<table border=\"1\" class=\"dataframe\">\n",
              "  <thead>\n",
              "    <tr style=\"text-align: right;\">\n",
              "      <th></th>\n",
              "      <th>class</th>\n",
              "      <th>age</th>\n",
              "      <th>menopause</th>\n",
              "      <th>tumor-size</th>\n",
              "      <th>inv-nodes</th>\n",
              "      <th>node-caps</th>\n",
              "      <th>deg-malig</th>\n",
              "      <th>breast</th>\n",
              "      <th>breast-quad</th>\n",
              "      <th>irradiat</th>\n",
              "    </tr>\n",
              "  </thead>\n",
              "  <tbody>\n",
              "    <tr>\n",
              "      <th>0</th>\n",
              "      <td>no-recurrence-events</td>\n",
              "      <td>30-39</td>\n",
              "      <td>premeno</td>\n",
              "      <td>30-34</td>\n",
              "      <td>0-2</td>\n",
              "      <td>no</td>\n",
              "      <td>3</td>\n",
              "      <td>left</td>\n",
              "      <td>left_low</td>\n",
              "      <td>no</td>\n",
              "    </tr>\n",
              "    <tr>\n",
              "      <th>1</th>\n",
              "      <td>no-recurrence-events</td>\n",
              "      <td>40-49</td>\n",
              "      <td>premeno</td>\n",
              "      <td>20-24</td>\n",
              "      <td>0-2</td>\n",
              "      <td>no</td>\n",
              "      <td>2</td>\n",
              "      <td>right</td>\n",
              "      <td>right_up</td>\n",
              "      <td>no</td>\n",
              "    </tr>\n",
              "    <tr>\n",
              "      <th>2</th>\n",
              "      <td>no-recurrence-events</td>\n",
              "      <td>40-49</td>\n",
              "      <td>premeno</td>\n",
              "      <td>20-24</td>\n",
              "      <td>0-2</td>\n",
              "      <td>no</td>\n",
              "      <td>2</td>\n",
              "      <td>left</td>\n",
              "      <td>left_low</td>\n",
              "      <td>no</td>\n",
              "    </tr>\n",
              "    <tr>\n",
              "      <th>3</th>\n",
              "      <td>no-recurrence-events</td>\n",
              "      <td>60-69</td>\n",
              "      <td>ge40</td>\n",
              "      <td>15-19</td>\n",
              "      <td>0-2</td>\n",
              "      <td>no</td>\n",
              "      <td>2</td>\n",
              "      <td>right</td>\n",
              "      <td>left_up</td>\n",
              "      <td>no</td>\n",
              "    </tr>\n",
              "    <tr>\n",
              "      <th>4</th>\n",
              "      <td>no-recurrence-events</td>\n",
              "      <td>40-49</td>\n",
              "      <td>premeno</td>\n",
              "      <td>0-4</td>\n",
              "      <td>0-2</td>\n",
              "      <td>no</td>\n",
              "      <td>2</td>\n",
              "      <td>right</td>\n",
              "      <td>right_low</td>\n",
              "      <td>no</td>\n",
              "    </tr>\n",
              "  </tbody>\n",
              "</table>\n",
              "</div>"
            ],
            "text/plain": [
              "                  class    age menopause tumor-size inv-nodes node-caps  \\\n",
              "0  no-recurrence-events  30-39   premeno      30-34       0-2        no   \n",
              "1  no-recurrence-events  40-49   premeno      20-24       0-2        no   \n",
              "2  no-recurrence-events  40-49   premeno      20-24       0-2        no   \n",
              "3  no-recurrence-events  60-69      ge40      15-19       0-2        no   \n",
              "4  no-recurrence-events  40-49   premeno        0-4       0-2        no   \n",
              "\n",
              "   deg-malig breast breast-quad irradiat  \n",
              "0          3   left    left_low       no  \n",
              "1          2  right    right_up       no  \n",
              "2          2   left    left_low       no  \n",
              "3          2  right     left_up       no  \n",
              "4          2  right   right_low       no  "
            ]
          },
          "execution_count": 6,
          "metadata": {},
          "output_type": "execute_result"
        }
      ],
      "source": [
        "clasificacion.head()"
      ]
    },
    {
      "cell_type": "markdown",
      "metadata": {
        "id": "xbbUlL7BfpGZ"
      },
      "source": [
        "### 🔬 Análisis Exploratorio 🎉"
      ]
    },
    {
      "cell_type": "markdown",
      "metadata": {
        "id": "ClMjdeQYfpGa"
      },
      "source": [
        "¿Cuantas filas y columnas tiene el dataset?"
      ]
    },
    {
      "cell_type": "code",
      "execution_count": null,
      "metadata": {
        "id": "ag50JvVyfpGa",
        "outputId": "3575d3dd-e646-4b20-ba9a-814f713ed66a"
      },
      "outputs": [
        {
          "data": {
            "text/plain": [
              "(286, 10)"
            ]
          },
          "execution_count": 7,
          "metadata": {},
          "output_type": "execute_result"
        }
      ],
      "source": [
        "clasificacion.shape"
      ]
    },
    {
      "cell_type": "markdown",
      "metadata": {
        "id": "6nC5nCaHfpGa"
      },
      "source": [
        "**Numero de columnas**: 10 (atributos)   \n",
        "**Numero de filas**: 286 (observaciones)"
      ]
    },
    {
      "cell_type": "markdown",
      "metadata": {
        "id": "4n6T6memfpGb"
      },
      "source": [
        "¿Cual es el nombre de las columnas contenidas?"
      ]
    },
    {
      "cell_type": "code",
      "execution_count": null,
      "metadata": {
        "id": "Ipk9ILe-fpGb",
        "outputId": "cb50159f-53a7-4d2a-9467-4e0ce820af43"
      },
      "outputs": [
        {
          "data": {
            "text/plain": [
              "Index(['class', 'age', 'menopause', 'tumor-size', 'inv-nodes', 'node-caps',\n",
              "       'deg-malig', 'breast', 'breast-quad', 'irradiat'],\n",
              "      dtype='object')"
            ]
          },
          "execution_count": 8,
          "metadata": {},
          "output_type": "execute_result"
        }
      ],
      "source": [
        "clasificacion.columns"
      ]
    },
    {
      "cell_type": "markdown",
      "metadata": {
        "id": "PAu0w4gdfpGb"
      },
      "source": [
        "¿Que tipos de datos contiene cada una de las columnas?"
      ]
    },
    {
      "cell_type": "code",
      "execution_count": null,
      "metadata": {
        "id": "1UjEHVMFfpGb",
        "outputId": "d1ad4f95-55ad-416b-cfa0-14441fadafbe"
      },
      "outputs": [
        {
          "data": {
            "text/plain": [
              "class          object\n",
              "age            object\n",
              "menopause      object\n",
              "tumor-size     object\n",
              "inv-nodes      object\n",
              "node-caps      object\n",
              "deg-malig       int64\n",
              "breast         object\n",
              "breast-quad    object\n",
              "irradiat       object\n",
              "dtype: object"
            ]
          },
          "execution_count": 9,
          "metadata": {},
          "output_type": "execute_result"
        }
      ],
      "source": [
        "clasificacion.dtypes"
      ]
    },
    {
      "cell_type": "markdown",
      "metadata": {
        "id": "xOQt0rvCfpGc"
      },
      "source": [
        "¿Hay valores faltantes?"
      ]
    },
    {
      "cell_type": "code",
      "execution_count": null,
      "metadata": {
        "id": "WhTRaDi7fpGc",
        "outputId": "4762c72a-c8fa-4595-e5f6-207b46ab6a45"
      },
      "outputs": [
        {
          "name": "stdout",
          "output_type": "stream",
          "text": [
            "Valores faltantes en cada atributo: \n",
            "class          0\n",
            "age            0\n",
            "menopause      0\n",
            "tumor-size     0\n",
            "inv-nodes      0\n",
            "node-caps      0\n",
            "deg-malig      0\n",
            "breast         0\n",
            "breast-quad    0\n",
            "irradiat       0\n",
            "dtype: int64\n"
          ]
        }
      ],
      "source": [
        "print(f\"Valores faltantes en cada atributo: \\n{clasificacion.isnull().sum()}\")"
      ]
    },
    {
      "cell_type": "markdown",
      "metadata": {
        "id": "F9onEa5JfpGc"
      },
      "source": [
        "Si bien no hay valores faltantes, veamos si hay algún valor que resulte raro y pueda ser interpretado como faltante."
      ]
    },
    {
      "cell_type": "code",
      "execution_count": null,
      "metadata": {
        "id": "RVa797urfpGd",
        "outputId": "49cdbc03-2c44-4131-9401-91adcf444ec1"
      },
      "outputs": [
        {
          "name": "stdout",
          "output_type": "stream",
          "text": [
            "Columna: class, Valores:['no-recurrence-events' 'recurrence-events']\n",
            "Columna: age, Valores:['30-39' '40-49' '60-69' '50-59' '70-79' '20-29']\n",
            "Columna: menopause, Valores:['premeno' 'ge40' 'lt40']\n",
            "Columna: tumor-size, Valores:['30-34' '20-24' '15-19' '0-4' '25-29' '50-54' '10-14' '40-44' '35-39'\n",
            " '5-9' '45-49']\n",
            "Columna: inv-nodes, Valores:['0-2' '6-8' '9-11' '3-5' '15-17' '12-14' '24-26']\n",
            "Columna: node-caps, Valores:['no' 'yes' '?']\n",
            "Columna: deg-malig, Valores:[3 2 1]\n",
            "Columna: breast, Valores:['left' 'right']\n",
            "Columna: breast-quad, Valores:['left_low' 'right_up' 'left_up' 'right_low' 'central' '?']\n",
            "Columna: irradiat, Valores:['no' 'yes']\n"
          ]
        }
      ],
      "source": [
        "for column in clasificacion.columns:\n",
        "    print(f'Columna: {column}, Valores:{clasificacion[column].unique()}')"
      ]
    },
    {
      "cell_type": "markdown",
      "metadata": {
        "id": "PqOXO2LBfpGd"
      },
      "source": [
        "Podemos ver que en la columna `breast-quad`, hay un valor que es `?` y que puede ser interpretado como un valor faltante. Imputemos esos valores remplazandolos por el valor más frecuente."
      ]
    },
    {
      "cell_type": "code",
      "execution_count": null,
      "metadata": {
        "id": "lb0O2zeqfpGd"
      },
      "outputs": [],
      "source": [
        "imputer = SimpleImputer(missing_values='?', strategy='most_frequent')"
      ]
    },
    {
      "cell_type": "code",
      "execution_count": null,
      "metadata": {
        "id": "Zm9q7vnAfpGd"
      },
      "outputs": [],
      "source": [
        "clasificacion.loc[:, 'breast-quad'] = imputer.fit_transform(clasificacion[['breast-quad']])"
      ]
    },
    {
      "cell_type": "markdown",
      "metadata": {
        "id": "LAwpylnqfpGd"
      },
      "source": [
        "Todas las variables son categoricas, así que las visalizamos en gráficos."
      ]
    },
    {
      "cell_type": "code",
      "execution_count": null,
      "metadata": {
        "id": "3zP94jUBfpGe",
        "outputId": "d1f297a3-46c7-45eb-bab8-94a981129c93"
      },
      "outputs": [
        {
          "data": {
            "image/png": "[encoded data removed]",
            "text/plain": [
              "<Figure size 432x288 with 1 Axes>"
            ]
          },
          "metadata": {
            "needs_background": "light"
          },
          "output_type": "display_data"
        }
      ],
      "source": [
        "sns.countplot(x=clasificacion.sort_values('age')['age'], palette='rocket')\n",
        "plt.xlabel('Rango de Edad', size=14)\n",
        "plt.ylabel('Pacientes', size=14)\n",
        "plt.title('Distribución de rango de edad de los pacientes')\n",
        "sns.despine()"
      ]
    },
    {
      "cell_type": "code",
      "execution_count": null,
      "metadata": {
        "id": "WtZRP9V-fpGe"
      },
      "outputs": [],
      "source": [
        "categories = {\n",
        "    '0-4': 0,\n",
        "    '5-9': 1,\n",
        "    '10-14': 2,\n",
        "    '15-19': 3,\n",
        "    '20-24': 4,\n",
        "    '25-29': 5,\n",
        "    '30-34': 6,\n",
        "    '35-39': 7,\n",
        "    '40-44': 8,\n",
        "    '45-49': 9,\n",
        "    '50-54': 10\n",
        "}"
      ]
    },
    {
      "cell_type": "code",
      "execution_count": null,
      "metadata": {
        "id": "EJZjIcY9fpGe",
        "outputId": "0dfb08b9-ae99-4c31-8784-7691f6ac3ef1"
      },
      "outputs": [
        {
          "data": {
            "image/png": "[encoded data removed]",
            "text/plain": [
              "<Figure size 432x288 with 1 Axes>"
            ]
          },
          "metadata": {
            "needs_background": "light"
          },
          "output_type": "display_data"
        }
      ],
      "source": [
        "sns.countplot(x=clasificacion['tumor-size'].apply(lambda x: categories[x]), palette='vlag')\n",
        "plt.xticks(np.arange(11), categories.keys())\n",
        "plt.xlabel('Tamaño del tumor', size=14)\n",
        "plt.ylabel('Numero de Pacientes', size=14)\n",
        "plt.title('Distribución del tamaño del tumor')\n",
        "sns.despine()"
      ]
    },
    {
      "cell_type": "code",
      "execution_count": null,
      "metadata": {
        "id": "3VQYnQDwfpGe",
        "outputId": "dccd3135-73ff-4bd2-ecaa-92bad53fadd4"
      },
      "outputs": [
        {
          "data": {
            "image/png": "[encoded data removed]",
            "text/plain": [
              "<Figure size 432x288 with 1 Axes>"
            ]
          },
          "metadata": {
            "needs_background": "light"
          },
          "output_type": "display_data"
        }
      ],
      "source": [
        "sns.countplot(x=clasificacion['menopause'], palette='spring')\n",
        "plt.xlabel('Condicion', size=14)\n",
        "plt.ylabel('Pacientes', size=14)\n",
        "plt.title('Distribución de categorias de menopausia')\n",
        "sns.despine()"
      ]
    },
    {
      "cell_type": "code",
      "execution_count": null,
      "metadata": {
        "id": "4CUCHlOWfpGf"
      },
      "outputs": [],
      "source": [
        "categories = {\n",
        "    '0-2': 0,\n",
        "    '3-5': 1,\n",
        "    '6-8': 2,\n",
        "    '9-11': 3,\n",
        "    '12-14': 4,\n",
        "    '15-17': 5,\n",
        "    '24-26': 6\n",
        "}"
      ]
    },
    {
      "cell_type": "code",
      "execution_count": null,
      "metadata": {
        "id": "yhlDJuHLfpGf",
        "outputId": "adf31b91-0d5f-43aa-ecfb-7fe4cac70c52"
      },
      "outputs": [
        {
          "data": {
            "image/png": "[encoded data removed]",
            "text/plain": [
              "<Figure size 432x288 with 1 Axes>"
            ]
          },
          "metadata": {
            "needs_background": "light"
          },
          "output_type": "display_data"
        }
      ],
      "source": [
        "sns.countplot(x=clasificacion['inv-nodes'].apply(lambda x: categories[x]), palette='autumn')\n",
        "plt.xlabel('Condicion', size=14)\n",
        "plt.ylabel('Pacientes', size=14)\n",
        "plt.title('Distribución de nodos invasivos')\n",
        "sns.despine()"
      ]
    },
    {
      "cell_type": "code",
      "execution_count": null,
      "metadata": {
        "id": "KaXhXlAOfpGf",
        "outputId": "1f6cb219-640b-4219-8046-76b2523606c1"
      },
      "outputs": [
        {
          "data": {
            "image/png": "[encoded data removed]",
            "text/plain": [
              "<Figure size 432x288 with 1 Axes>"
            ]
          },
          "metadata": {
            "needs_background": "light"
          },
          "output_type": "display_data"
        }
      ],
      "source": [
        "sns.countplot(x=clasificacion['node-caps'], palette='PuBu')\n",
        "plt.xlabel('Condicion', size=14)\n",
        "plt.ylabel('Pacientes', size=14)\n",
        "plt.title('Distribución de nodos invasivos')\n",
        "sns.despine()"
      ]
    },
    {
      "cell_type": "code",
      "execution_count": null,
      "metadata": {
        "id": "w-FWSdhBfpGg",
        "outputId": "d2f8d1a9-08de-4d59-c311-bc0e2bd35cd2"
      },
      "outputs": [
        {
          "data": {
            "text/plain": [
              "no-recurrence-events    201\n",
              "recurrence-events        85\n",
              "Name: class, dtype: int64"
            ]
          },
          "execution_count": 21,
          "metadata": {},
          "output_type": "execute_result"
        }
      ],
      "source": [
        "clasificacion['class'].value_counts()"
      ]
    },
    {
      "cell_type": "code",
      "execution_count": null,
      "metadata": {
        "id": "NAEI8k3xfpGg",
        "outputId": "8ffe9182-4079-4282-b9e2-9a062e0cbf06"
      },
      "outputs": [
        {
          "data": {
            "text/plain": [
              "no-recurrence-events    70.27972\n",
              "recurrence-events       29.72028\n",
              "Name: class, dtype: float64"
            ]
          },
          "execution_count": 22,
          "metadata": {},
          "output_type": "execute_result"
        }
      ],
      "source": [
        "clasificacion['class'].value_counts() / clasificacion['class'].shape[0] * 100"
      ]
    },
    {
      "cell_type": "code",
      "execution_count": null,
      "metadata": {
        "id": "O7aXsgKPfpGg",
        "outputId": "7afbcf6e-f0bb-4090-ab42-bb327eb6829d"
      },
      "outputs": [
        {
          "data": {
            "image/png": "[encoded data removed]",
            "text/plain": [
              "<Figure size 432x288 with 1 Axes>"
            ]
          },
          "metadata": {
            "needs_background": "light"
          },
          "output_type": "display_data"
        }
      ],
      "source": [
        "sns.countplot(x=clasificacion['class'], palette='Set2')\n",
        "plt.xlabel('Clase', size=14)\n",
        "plt.ylabel('Pacientes', size=14)\n",
        "plt.title('Distribución de categorias')\n",
        "sns.despine()"
      ]
    },
    {
      "cell_type": "markdown",
      "metadata": {
        "id": "_h5WBhb0fpGg"
      },
      "source": [
        "### 🛠 Procesamiento y transformación de datos 🔧"
      ]
    },
    {
      "cell_type": "markdown",
      "metadata": {
        "id": "dQcTcWlCfpGh"
      },
      "source": [
        "Como las variables son categoricas, vamos a transformarlas en variables numericas para poder incorporarlas al modelo que elijamos. Para esto vamos a tomar diferentes estrategias utilizando todo lo que vimos en la clase 6 de transformación de datos."
      ]
    },
    {
      "cell_type": "code",
      "execution_count": null,
      "metadata": {
        "id": "c-dyb9hCfpGh",
        "outputId": "54653085-4beb-4527-e4a3-ac0bab80eaa6"
      },
      "outputs": [
        {
          "data": {
            "text/html": [
              "<div>\n",
              "<style scoped>\n",
              "    .dataframe tbody tr th:only-of-type {\n",
              "        vertical-align: middle;\n",
              "    }\n",
              "\n",
              "    .dataframe tbody tr th {\n",
              "        vertical-align: top;\n",
              "    }\n",
              "\n",
              "    .dataframe thead th {\n",
              "        text-align: right;\n",
              "    }\n",
              "</style>\n",
              "<table border=\"1\" class=\"dataframe\">\n",
              "  <thead>\n",
              "    <tr style=\"text-align: right;\">\n",
              "      <th></th>\n",
              "      <th>class</th>\n",
              "      <th>age</th>\n",
              "      <th>menopause</th>\n",
              "      <th>tumor-size</th>\n",
              "      <th>inv-nodes</th>\n",
              "      <th>node-caps</th>\n",
              "      <th>deg-malig</th>\n",
              "      <th>breast</th>\n",
              "      <th>breast-quad</th>\n",
              "      <th>irradiat</th>\n",
              "    </tr>\n",
              "  </thead>\n",
              "  <tbody>\n",
              "    <tr>\n",
              "      <th>0</th>\n",
              "      <td>no-recurrence-events</td>\n",
              "      <td>30-39</td>\n",
              "      <td>premeno</td>\n",
              "      <td>30-34</td>\n",
              "      <td>0-2</td>\n",
              "      <td>no</td>\n",
              "      <td>3</td>\n",
              "      <td>left</td>\n",
              "      <td>left_low</td>\n",
              "      <td>no</td>\n",
              "    </tr>\n",
              "    <tr>\n",
              "      <th>1</th>\n",
              "      <td>no-recurrence-events</td>\n",
              "      <td>40-49</td>\n",
              "      <td>premeno</td>\n",
              "      <td>20-24</td>\n",
              "      <td>0-2</td>\n",
              "      <td>no</td>\n",
              "      <td>2</td>\n",
              "      <td>right</td>\n",
              "      <td>right_up</td>\n",
              "      <td>no</td>\n",
              "    </tr>\n",
              "    <tr>\n",
              "      <th>2</th>\n",
              "      <td>no-recurrence-events</td>\n",
              "      <td>40-49</td>\n",
              "      <td>premeno</td>\n",
              "      <td>20-24</td>\n",
              "      <td>0-2</td>\n",
              "      <td>no</td>\n",
              "      <td>2</td>\n",
              "      <td>left</td>\n",
              "      <td>left_low</td>\n",
              "      <td>no</td>\n",
              "    </tr>\n",
              "    <tr>\n",
              "      <th>3</th>\n",
              "      <td>no-recurrence-events</td>\n",
              "      <td>60-69</td>\n",
              "      <td>ge40</td>\n",
              "      <td>15-19</td>\n",
              "      <td>0-2</td>\n",
              "      <td>no</td>\n",
              "      <td>2</td>\n",
              "      <td>right</td>\n",
              "      <td>left_up</td>\n",
              "      <td>no</td>\n",
              "    </tr>\n",
              "    <tr>\n",
              "      <th>4</th>\n",
              "      <td>no-recurrence-events</td>\n",
              "      <td>40-49</td>\n",
              "      <td>premeno</td>\n",
              "      <td>0-4</td>\n",
              "      <td>0-2</td>\n",
              "      <td>no</td>\n",
              "      <td>2</td>\n",
              "      <td>right</td>\n",
              "      <td>right_low</td>\n",
              "      <td>no</td>\n",
              "    </tr>\n",
              "  </tbody>\n",
              "</table>\n",
              "</div>"
            ],
            "text/plain": [
              "                  class    age menopause tumor-size inv-nodes node-caps  \\\n",
              "0  no-recurrence-events  30-39   premeno      30-34       0-2        no   \n",
              "1  no-recurrence-events  40-49   premeno      20-24       0-2        no   \n",
              "2  no-recurrence-events  40-49   premeno      20-24       0-2        no   \n",
              "3  no-recurrence-events  60-69      ge40      15-19       0-2        no   \n",
              "4  no-recurrence-events  40-49   premeno        0-4       0-2        no   \n",
              "\n",
              "   deg-malig breast breast-quad irradiat  \n",
              "0          3   left    left_low       no  \n",
              "1          2  right    right_up       no  \n",
              "2          2   left    left_low       no  \n",
              "3          2  right     left_up       no  \n",
              "4          2  right   right_low       no  "
            ]
          },
          "execution_count": 24,
          "metadata": {},
          "output_type": "execute_result"
        }
      ],
      "source": [
        "clasificacion.head()"
      ]
    },
    {
      "cell_type": "markdown",
      "metadata": {
        "id": "YU_5xK1xfpGh"
      },
      "source": [
        "Transformamos la variable `class` utilizando el metodo apply: Assignamos 0 a eventos no recurrentes, ya que lo consideramos como una respuesta negativa y 1 a eventos recurrentes (ya que seria nuestra respuesta positiva)."
      ]
    },
    {
      "cell_type": "code",
      "execution_count": null,
      "metadata": {
        "id": "v7GX7XtYfpGh"
      },
      "outputs": [],
      "source": [
        "clasificacion['class'] = clasificacion['class'].apply(lambda x: 0 if x == 'no-recurrence-events' else 1)"
      ]
    },
    {
      "cell_type": "markdown",
      "metadata": {
        "id": "_dYTGxUifpGh"
      },
      "source": [
        "Lo mismo con la variable `irradiat` y `node-caps`."
      ]
    },
    {
      "cell_type": "code",
      "execution_count": null,
      "metadata": {
        "id": "PV6GiJvTfpGh"
      },
      "outputs": [],
      "source": [
        "clasificacion['irradiat'] = clasificacion['irradiat'].apply(lambda x: 0 if x == 'no' else 1)"
      ]
    },
    {
      "cell_type": "code",
      "execution_count": null,
      "metadata": {
        "id": "EKrdDPSwfpGi"
      },
      "outputs": [],
      "source": [
        "clasificacion['node-caps'] = clasificacion['node-caps'].apply(lambda x: 0 if x == 'no' else 1)"
      ]
    },
    {
      "cell_type": "markdown",
      "metadata": {
        "id": "opfhFCk6fpGi"
      },
      "source": [
        "Por el contrario, utilizaremos `LabelEncoder` para poder transformar la variable `age`. En este caso, utilizaremos este encoding ya que podemos considerar que siguen un orden y que la edad puede afectar incremental o decrementalmente la aparición de eventos recurrentes. Lo mismo haremos con la variable `tumor-size` y `inv-nodes`."
      ]
    },
    {
      "cell_type": "code",
      "execution_count": null,
      "metadata": {
        "id": "T4kqBsYLfpGi"
      },
      "outputs": [],
      "source": [
        "age_encoder = LabelEncoder()"
      ]
    },
    {
      "cell_type": "code",
      "execution_count": null,
      "metadata": {
        "id": "6ZmFcTh8fpGi"
      },
      "outputs": [],
      "source": [
        "clasificacion.loc[:, 'age'] = age_encoder.fit_transform(clasificacion['age'])"
      ]
    },
    {
      "cell_type": "code",
      "execution_count": null,
      "metadata": {
        "id": "SNaTiicYfpGi"
      },
      "outputs": [],
      "source": [
        "size_encoder = LabelEncoder()"
      ]
    },
    {
      "cell_type": "code",
      "execution_count": null,
      "metadata": {
        "id": "F5hZxoxafpGi"
      },
      "outputs": [],
      "source": [
        "clasificacion.loc[:, 'tumor-size'] = size_encoder.fit_transform(clasificacion['tumor-size'])"
      ]
    },
    {
      "cell_type": "code",
      "execution_count": null,
      "metadata": {
        "id": "vHrp08e5fpGi"
      },
      "outputs": [],
      "source": [
        "nodes_encoder = LabelEncoder()"
      ]
    },
    {
      "cell_type": "code",
      "execution_count": null,
      "metadata": {
        "id": "l0G2f39nfpGj"
      },
      "outputs": [],
      "source": [
        "clasificacion.loc[:, 'inv-nodes'] = size_encoder.fit_transform(clasificacion['inv-nodes'])"
      ]
    },
    {
      "cell_type": "markdown",
      "metadata": {
        "id": "v5Nd2tTgfpGj"
      },
      "source": [
        "Para las variables `menopause`, `breast` y `breast-quad`, utilizaremos `get_dummies()`."
      ]
    },
    {
      "cell_type": "code",
      "execution_count": null,
      "metadata": {
        "id": "DT_cWHVefpGj"
      },
      "outputs": [],
      "source": [
        "clasificacion = pd.get_dummies(clasificacion, columns=['menopause', 'breast', 'breast-quad'])"
      ]
    },
    {
      "cell_type": "code",
      "execution_count": null,
      "metadata": {
        "id": "E6elOEjBfpGj",
        "outputId": "886622c3-f436-4379-ea83-97a98ea28f1a"
      },
      "outputs": [
        {
          "data": {
            "text/html": [
              "<div>\n",
              "<style scoped>\n",
              "    .dataframe tbody tr th:only-of-type {\n",
              "        vertical-align: middle;\n",
              "    }\n",
              "\n",
              "    .dataframe tbody tr th {\n",
              "        vertical-align: top;\n",
              "    }\n",
              "\n",
              "    .dataframe thead th {\n",
              "        text-align: right;\n",
              "    }\n",
              "</style>\n",
              "<table border=\"1\" class=\"dataframe\">\n",
              "  <thead>\n",
              "    <tr style=\"text-align: right;\">\n",
              "      <th></th>\n",
              "      <th>class</th>\n",
              "      <th>age</th>\n",
              "      <th>tumor-size</th>\n",
              "      <th>inv-nodes</th>\n",
              "      <th>node-caps</th>\n",
              "      <th>deg-malig</th>\n",
              "      <th>irradiat</th>\n",
              "      <th>menopause_ge40</th>\n",
              "      <th>menopause_lt40</th>\n",
              "      <th>menopause_premeno</th>\n",
              "      <th>breast_left</th>\n",
              "      <th>breast_right</th>\n",
              "      <th>breast-quad_central</th>\n",
              "      <th>breast-quad_left_low</th>\n",
              "      <th>breast-quad_left_up</th>\n",
              "      <th>breast-quad_right_low</th>\n",
              "      <th>breast-quad_right_up</th>\n",
              "    </tr>\n",
              "  </thead>\n",
              "  <tbody>\n",
              "    <tr>\n",
              "      <th>0</th>\n",
              "      <td>0</td>\n",
              "      <td>1</td>\n",
              "      <td>5</td>\n",
              "      <td>0</td>\n",
              "      <td>0</td>\n",
              "      <td>3</td>\n",
              "      <td>0</td>\n",
              "      <td>0</td>\n",
              "      <td>0</td>\n",
              "      <td>1</td>\n",
              "      <td>1</td>\n",
              "      <td>0</td>\n",
              "      <td>0</td>\n",
              "      <td>1</td>\n",
              "      <td>0</td>\n",
              "      <td>0</td>\n",
              "      <td>0</td>\n",
              "    </tr>\n",
              "    <tr>\n",
              "      <th>1</th>\n",
              "      <td>0</td>\n",
              "      <td>2</td>\n",
              "      <td>3</td>\n",
              "      <td>0</td>\n",
              "      <td>0</td>\n",
              "      <td>2</td>\n",
              "      <td>0</td>\n",
              "      <td>0</td>\n",
              "      <td>0</td>\n",
              "      <td>1</td>\n",
              "      <td>0</td>\n",
              "      <td>1</td>\n",
              "      <td>0</td>\n",
              "      <td>0</td>\n",
              "      <td>0</td>\n",
              "      <td>0</td>\n",
              "      <td>1</td>\n",
              "    </tr>\n",
              "    <tr>\n",
              "      <th>2</th>\n",
              "      <td>0</td>\n",
              "      <td>2</td>\n",
              "      <td>3</td>\n",
              "      <td>0</td>\n",
              "      <td>0</td>\n",
              "      <td>2</td>\n",
              "      <td>0</td>\n",
              "      <td>0</td>\n",
              "      <td>0</td>\n",
              "      <td>1</td>\n",
              "      <td>1</td>\n",
              "      <td>0</td>\n",
              "      <td>0</td>\n",
              "      <td>1</td>\n",
              "      <td>0</td>\n",
              "      <td>0</td>\n",
              "      <td>0</td>\n",
              "    </tr>\n",
              "    <tr>\n",
              "      <th>3</th>\n",
              "      <td>0</td>\n",
              "      <td>4</td>\n",
              "      <td>2</td>\n",
              "      <td>0</td>\n",
              "      <td>0</td>\n",
              "      <td>2</td>\n",
              "      <td>0</td>\n",
              "      <td>1</td>\n",
              "      <td>0</td>\n",
              "      <td>0</td>\n",
              "      <td>0</td>\n",
              "      <td>1</td>\n",
              "      <td>0</td>\n",
              "      <td>0</td>\n",
              "      <td>1</td>\n",
              "      <td>0</td>\n",
              "      <td>0</td>\n",
              "    </tr>\n",
              "    <tr>\n",
              "      <th>4</th>\n",
              "      <td>0</td>\n",
              "      <td>2</td>\n",
              "      <td>0</td>\n",
              "      <td>0</td>\n",
              "      <td>0</td>\n",
              "      <td>2</td>\n",
              "      <td>0</td>\n",
              "      <td>0</td>\n",
              "      <td>0</td>\n",
              "      <td>1</td>\n",
              "      <td>0</td>\n",
              "      <td>1</td>\n",
              "      <td>0</td>\n",
              "      <td>0</td>\n",
              "      <td>0</td>\n",
              "      <td>1</td>\n",
              "      <td>0</td>\n",
              "    </tr>\n",
              "  </tbody>\n",
              "</table>\n",
              "</div>"
            ],
            "text/plain": [
              "   class  age  tumor-size  inv-nodes  node-caps  deg-malig  irradiat  \\\n",
              "0      0    1           5          0          0          3         0   \n",
              "1      0    2           3          0          0          2         0   \n",
              "2      0    2           3          0          0          2         0   \n",
              "3      0    4           2          0          0          2         0   \n",
              "4      0    2           0          0          0          2         0   \n",
              "\n",
              "   menopause_ge40  menopause_lt40  menopause_premeno  breast_left  \\\n",
              "0               0               0                  1            1   \n",
              "1               0               0                  1            0   \n",
              "2               0               0                  1            1   \n",
              "3               1               0                  0            0   \n",
              "4               0               0                  1            0   \n",
              "\n",
              "   breast_right  breast-quad_central  breast-quad_left_low  \\\n",
              "0             0                    0                     1   \n",
              "1             1                    0                     0   \n",
              "2             0                    0                     1   \n",
              "3             1                    0                     0   \n",
              "4             1                    0                     0   \n",
              "\n",
              "   breast-quad_left_up  breast-quad_right_low  breast-quad_right_up  \n",
              "0                    0                      0                     0  \n",
              "1                    0                      0                     1  \n",
              "2                    0                      0                     0  \n",
              "3                    1                      0                     0  \n",
              "4                    0                      1                     0  "
            ]
          },
          "execution_count": 35,
          "metadata": {},
          "output_type": "execute_result"
        }
      ],
      "source": [
        "clasificacion.head()"
      ]
    },
    {
      "cell_type": "markdown",
      "metadata": {
        "id": "WcCKfE4AfpGj"
      },
      "source": [
        "#### Seleccion de target (y) y variables (X)"
      ]
    },
    {
      "cell_type": "code",
      "execution_count": null,
      "metadata": {
        "id": "Vn8HaM8ufpGj"
      },
      "outputs": [],
      "source": [
        "# Elimino aquellas variables que no quiero incluir en el modelo y las guardo en x.\n",
        "x = clasificacion.drop(['class'], axis=1)"
      ]
    },
    {
      "cell_type": "code",
      "execution_count": null,
      "metadata": {
        "id": "aDI-egSNfpGk"
      },
      "outputs": [],
      "source": [
        "lista_atributos = x.columns"
      ]
    },
    {
      "cell_type": "code",
      "execution_count": null,
      "metadata": {
        "id": "637_YHXNfpGk"
      },
      "outputs": [],
      "source": [
        "# Ahora selecciono las etiquetas y las guardo en y.\n",
        "y = clasificacion['class']"
      ]
    },
    {
      "cell_type": "code",
      "execution_count": null,
      "metadata": {
        "id": "fTtVw1EHfpGk"
      },
      "outputs": [],
      "source": [
        "x, y = np.array(x), np.array(y)"
      ]
    },
    {
      "cell_type": "markdown",
      "metadata": {
        "id": "A3CCqGwDfpGk"
      },
      "source": [
        "#### Separando Train / Test"
      ]
    },
    {
      "cell_type": "markdown",
      "metadata": {
        "id": "2hxAJCgPfpGk"
      },
      "source": [
        "Ahora tenemos que separar el dataset en conjuntos de entrenamiento (X_train, y_train) y de testeo (X_test, y_test) usando la función train_test_split de scikit-learn."
      ]
    },
    {
      "cell_type": "code",
      "execution_count": null,
      "metadata": {
        "id": "OLZGcvTVfpGk"
      },
      "outputs": [],
      "source": [
        "X_train, X_test, y_train, y_test = train_test_split(x, y, test_size=0.2,\n",
        "                                                    random_state=42)"
      ]
    },
    {
      "cell_type": "code",
      "execution_count": null,
      "metadata": {
        "id": "H23KnC9ofpGk",
        "outputId": "c3bd43e3-e150-4aac-8cb7-325f587c205e"
      },
      "outputs": [
        {
          "data": {
            "text/plain": [
              "(228, 16)"
            ]
          },
          "execution_count": 41,
          "metadata": {},
          "output_type": "execute_result"
        }
      ],
      "source": [
        "X_train.shape"
      ]
    },
    {
      "cell_type": "code",
      "execution_count": null,
      "metadata": {
        "id": "vsR7-SB6fpGl",
        "outputId": "e5fd5ac2-6dfa-4a95-c9df-0e365caf31fe"
      },
      "outputs": [
        {
          "data": {
            "text/plain": [
              "(58, 16)"
            ]
          },
          "execution_count": 42,
          "metadata": {},
          "output_type": "execute_result"
        }
      ],
      "source": [
        "X_test.shape"
      ]
    },
    {
      "cell_type": "markdown",
      "metadata": {
        "id": "B6jRxVhNfpGl"
      },
      "source": [
        "### Modelos"
      ]
    },
    {
      "cell_type": "code",
      "execution_count": null,
      "metadata": {
        "id": "cKQaH3xCfpGl"
      },
      "outputs": [],
      "source": [
        "from sklearn.neighbors import KNeighborsClassifier"
      ]
    },
    {
      "cell_type": "code",
      "execution_count": null,
      "metadata": {
        "id": "yVLcJ8kKfpGl"
      },
      "outputs": [],
      "source": [
        "from sklearn.ensemble import RandomForestClassifier"
      ]
    },
    {
      "cell_type": "code",
      "execution_count": null,
      "metadata": {
        "id": "-cexOnvvfpGl"
      },
      "outputs": [],
      "source": [
        "from sklearn.model_selection import GridSearchCV"
      ]
    },
    {
      "cell_type": "code",
      "execution_count": null,
      "metadata": {
        "id": "_GZkNBejfpGl"
      },
      "outputs": [],
      "source": [
        "# metricas\n",
        "from sklearn.metrics import (\n",
        "    accuracy_score,\n",
        "    confusion_matrix,\n",
        "    precision_score,\n",
        "    recall_score,\n",
        "    f1_score\n",
        ")"
      ]
    },
    {
      "cell_type": "markdown",
      "metadata": {
        "id": "dt3-xagAfpGl"
      },
      "source": [
        "#### Clasificador KNN"
      ]
    },
    {
      "cell_type": "markdown",
      "metadata": {
        "id": "6YjD5odrfpGm"
      },
      "source": [
        "Optimizar los parameteros del clasificador kNN. Empecemos encontrando el mejor K."
      ]
    },
    {
      "cell_type": "code",
      "execution_count": null,
      "metadata": {
        "id": "G50v8OwFfpGm"
      },
      "outputs": [],
      "source": [
        "####\n",
        "ACC_train = []\n",
        "ACC_test = []\n",
        "vecinos = [1, 3, 5, 10, 15, 20, 25, 30]\n",
        "for n in vecinos:\n",
        "    clf = KNeighborsClassifier(n_neighbors=n)\n",
        "    clf.fit(X_train, y_train)\n",
        "    y_train_pred = clf.predict(X_train)\n",
        "    train_acc = accuracy_score(y_train, y_train_pred)\n",
        "    ACC_train.append(train_acc)\n",
        "    y_test_pred = clf.predict(X_test)\n",
        "    test_acc = accuracy_score(y_test, y_test_pred)\n",
        "    ACC_test.append(test_acc)"
      ]
    },
    {
      "cell_type": "code",
      "execution_count": null,
      "metadata": {
        "id": "_01tZ0hifpGm",
        "outputId": "6b29bf63-7cb5-4c63-fa1e-deb3c18e1dc1"
      },
      "outputs": [
        {
          "data": {
            "image/png": "[encoded data removed]",
            "text/plain": [
              "<Figure size 432x288 with 1 Axes>"
            ]
          },
          "metadata": {
            "needs_background": "light"
          },
          "output_type": "display_data"
        }
      ],
      "source": [
        "plt.plot(vecinos,ACC_train,'o-',label='train', color='#DCE775')\n",
        "plt.plot(vecinos,ACC_test,'o-',label='test', color='#EC407A')\n",
        "plt.legend()\n",
        "sns.despine();"
      ]
    },
    {
      "cell_type": "markdown",
      "metadata": {
        "id": "X2RNiZWCfpGm"
      },
      "source": [
        "Y ahora hagamos una busqueda con `GridSearchCV` para obtener los hiperparametros optimos utilizando ademas validación cruzada."
      ]
    },
    {
      "cell_type": "code",
      "execution_count": null,
      "metadata": {
        "id": "nNhvVu-CfpGm"
      },
      "outputs": [],
      "source": [
        "# Valores para los parametros a optimizar\n",
        "param_grid_vec = {\n",
        "    'n_neighbors': [23, 25, 27],\n",
        "    'weights': ['uniform','distance'],\n",
        "    'metric': ['euclidean', 'manhattan'],\n",
        "}"
      ]
    },
    {
      "cell_type": "code",
      "execution_count": null,
      "metadata": {
        "id": "Vxwgs4KjfpGm"
      },
      "outputs": [],
      "source": [
        "knn_search = KNeighborsClassifier()"
      ]
    },
    {
      "cell_type": "code",
      "execution_count": null,
      "metadata": {
        "id": "4gRHI71BfpGn"
      },
      "outputs": [],
      "source": [
        "vecinos_search = GridSearchCV(estimator=knn_search, param_grid=param_grid_vec,\n",
        "                         cv=3, verbose=2, n_jobs=-1)"
      ]
    },
    {
      "cell_type": "code",
      "execution_count": null,
      "metadata": {
        "id": "3unz9kgDfpGo",
        "outputId": "43aaa0ea-234d-4ed0-c153-860309dd362e"
      },
      "outputs": [
        {
          "name": "stdout",
          "output_type": "stream",
          "text": [
            "Fitting 3 folds for each of 12 candidates, totalling 36 fits\n"
          ]
        },
        {
          "name": "stderr",
          "output_type": "stream",
          "text": [
            "[Parallel(n_jobs=-1)]: Using backend LokyBackend with 12 concurrent workers.\n",
            "[Parallel(n_jobs=-1)]: Done  32 out of  36 | elapsed:    1.2s remaining:    0.1s\n",
            "[Parallel(n_jobs=-1)]: Done  36 out of  36 | elapsed:    1.2s finished\n"
          ]
        },
        {
          "data": {
            "text/plain": [
              "GridSearchCV(cv=3, estimator=KNeighborsClassifier(), n_jobs=-1,\n",
              "             param_grid={'metric': ['euclidean', 'manhattan'],\n",
              "                         'n_neighbors': [23, 25, 27],\n",
              "                         'weights': ['uniform', 'distance']},\n",
              "             verbose=2)"
            ]
          },
          "execution_count": 52,
          "metadata": {},
          "output_type": "execute_result"
        }
      ],
      "source": [
        "vecinos_search.fit(X_train, y_train)"
      ]
    },
    {
      "cell_type": "code",
      "execution_count": null,
      "metadata": {
        "id": "bgHiDsgVfpGo",
        "outputId": "1a8649f2-927c-40e8-c072-dd57e685baa0"
      },
      "outputs": [
        {
          "data": {
            "text/plain": [
              "{'metric': 'manhattan', 'n_neighbors': 23, 'weights': 'uniform'}"
            ]
          },
          "execution_count": 53,
          "metadata": {},
          "output_type": "execute_result"
        }
      ],
      "source": [
        "# Mejores hiperparametros\n",
        "vecinos_search.best_params_"
      ]
    },
    {
      "cell_type": "markdown",
      "metadata": {
        "id": "UWzwoxgtfpGo"
      },
      "source": [
        "Ahora entrenemos el modelo final."
      ]
    },
    {
      "cell_type": "code",
      "execution_count": null,
      "metadata": {
        "id": "oUstBgZcfpGp"
      },
      "outputs": [],
      "source": [
        "knn_best = KNeighborsClassifier(metric='manhattan', n_neighbors=23, weights='uniform')"
      ]
    },
    {
      "cell_type": "code",
      "execution_count": null,
      "metadata": {
        "id": "6HkQRMHRfpGp",
        "outputId": "c37c4be1-f6cb-40aa-aad3-bcdb6fb47d60"
      },
      "outputs": [
        {
          "data": {
            "text/plain": [
              "KNeighborsClassifier(metric='manhattan', n_neighbors=23)"
            ]
          },
          "execution_count": 55,
          "metadata": {},
          "output_type": "execute_result"
        }
      ],
      "source": [
        "knn_best.fit(X_train, y_train)"
      ]
    },
    {
      "cell_type": "code",
      "execution_count": null,
      "metadata": {
        "id": "7aZFFElQfpGp"
      },
      "outputs": [],
      "source": [
        "new_predictions = knn_best.predict(X_test)"
      ]
    },
    {
      "cell_type": "markdown",
      "metadata": {
        "id": "sKnHS_8KfpGp"
      },
      "source": [
        "**Metricas**\n",
        "\n",
        "Matriz de confusión:\n",
        "\n",
        "True Negative (TN)  |  False positive (FP)   \n",
        "= = = = = = = = = = = = = = = = = = = = =       \n",
        "False negative (FN) | True positive (TP)  \n"
      ]
    },
    {
      "cell_type": "code",
      "execution_count": null,
      "metadata": {
        "id": "O48IsKkIfpGp",
        "outputId": "636ad582-d75f-46f3-8793-d7d33b9cbd61"
      },
      "outputs": [
        {
          "data": {
            "image/png": "[encoded data removed]",
            "text/plain": [
              "<Figure size 432x288 with 2 Axes>"
            ]
          },
          "metadata": {
            "needs_background": "light"
          },
          "output_type": "display_data"
        }
      ],
      "source": [
        "plt.figure()\n",
        "random_confusion = confusion_matrix(y_test, new_predictions)\n",
        "sns.heatmap(random_confusion, cmap=\"YlGnBu\",annot=True);"
      ]
    },
    {
      "cell_type": "code",
      "execution_count": null,
      "metadata": {
        "id": "oDA5tu2ofpGp",
        "outputId": "abf70bef-8f92-419f-956b-c5634e8906a9"
      },
      "outputs": [
        {
          "name": "stdout",
          "output_type": "stream",
          "text": [
            "Accuracy: 63.79%\n",
            "Precision: 50.00%\n",
            "Recall: 9.52%\n",
            "F1 score: 16.00%\n"
          ]
        }
      ],
      "source": [
        "print(f\"Accuracy: {accuracy_score(y_test, new_predictions)*100 :.2f}%\")\n",
        "print(f\"Precision: {precision_score(y_test, new_predictions)*100 :.2f}%\")\n",
        "print(f\"Recall: {recall_score(y_test, new_predictions)*100 :.2f}%\")\n",
        "print(f\"F1 score: {f1_score(y_test, new_predictions)*100 :.2f}%\")"
      ]
    },
    {
      "cell_type": "markdown",
      "metadata": {
        "id": "vUxD4RAAfpGq"
      },
      "source": [
        "#### Clasificador RandomForest"
      ]
    },
    {
      "cell_type": "markdown",
      "metadata": {
        "id": "f6aR5Ir1fpGq"
      },
      "source": [
        "Probemos con otro modelo: un Random Forest para ver como le va."
      ]
    },
    {
      "cell_type": "code",
      "execution_count": null,
      "metadata": {
        "id": "W4IvMJp4fpGq"
      },
      "outputs": [],
      "source": [
        "# Valores para los parametros a optimizar\n",
        "param_grid_vec_random = {\n",
        "    'max_features': ['auto', 'sqrt', 'log2', None],\n",
        "    'max_depth': [2, 3, 4, 8, 10],\n",
        "    'criterion': ['gini', 'entropy'],\n",
        "    'bootstrap': [True, False],\n",
        "    'n_estimators': [10, 15, 20, 30, 50, 100]\n",
        "\n",
        "}"
      ]
    },
    {
      "cell_type": "code",
      "execution_count": null,
      "metadata": {
        "id": "N-FyKq75fpGq"
      },
      "outputs": [],
      "source": [
        "random_forest = RandomForestClassifier()"
      ]
    },
    {
      "cell_type": "code",
      "execution_count": null,
      "metadata": {
        "id": "09Yapog-fpGq"
      },
      "outputs": [],
      "source": [
        "rf_search = GridSearchCV(estimator=random_forest, param_grid=param_grid_vec_random,\n",
        "                         cv=3, verbose=2, n_jobs=-1)"
      ]
    },
    {
      "cell_type": "code",
      "execution_count": null,
      "metadata": {
        "id": "olSc535TfpGq",
        "outputId": "7903ad7f-aca4-43b0-b8d0-33a3ab8773b4"
      },
      "outputs": [
        {
          "name": "stdout",
          "output_type": "stream",
          "text": [
            "Fitting 3 folds for each of 480 candidates, totalling 1440 fits\n"
          ]
        },
        {
          "name": "stderr",
          "output_type": "stream",
          "text": [
            "[Parallel(n_jobs=-1)]: Using backend LokyBackend with 12 concurrent workers.\n",
            "[Parallel(n_jobs=-1)]: Done  17 tasks      | elapsed:    0.2s\n",
            "[Parallel(n_jobs=-1)]: Done 432 tasks      | elapsed:    3.8s\n",
            "[Parallel(n_jobs=-1)]: Done 1244 tasks      | elapsed:   11.2s\n",
            "[Parallel(n_jobs=-1)]: Done 1417 out of 1440 | elapsed:   12.5s remaining:    0.2s\n",
            "[Parallel(n_jobs=-1)]: Done 1440 out of 1440 | elapsed:   12.8s finished\n"
          ]
        },
        {
          "data": {
            "text/plain": [
              "GridSearchCV(cv=3, estimator=RandomForestClassifier(), n_jobs=-1,\n",
              "             param_grid={'bootstrap': [True, False],\n",
              "                         'criterion': ['gini', 'entropy'],\n",
              "                         'max_depth': [2, 3, 4, 8, 10],\n",
              "                         'max_features': ['auto', 'sqrt', 'log2', None],\n",
              "                         'n_estimators': [10, 15, 20, 30, 50, 100]},\n",
              "             verbose=2)"
            ]
          },
          "execution_count": 62,
          "metadata": {},
          "output_type": "execute_result"
        }
      ],
      "source": [
        "rf_search.fit(X_train, y_train)"
      ]
    },
    {
      "cell_type": "code",
      "execution_count": null,
      "metadata": {
        "id": "Pgvh1IAbfpGr",
        "outputId": "15239902-a1ac-42da-a964-80711cb806a8"
      },
      "outputs": [
        {
          "data": {
            "text/plain": [
              "{'bootstrap': True,\n",
              " 'criterion': 'entropy',\n",
              " 'max_depth': 3,\n",
              " 'max_features': 'auto',\n",
              " 'n_estimators': 15}"
            ]
          },
          "execution_count": 63,
          "metadata": {},
          "output_type": "execute_result"
        }
      ],
      "source": [
        "# Mejores hiperparametros\n",
        "rf_search.best_params_"
      ]
    },
    {
      "cell_type": "markdown",
      "metadata": {
        "id": "_-XiNsoLfpGr"
      },
      "source": [
        "Ahora entrenemos el modelo final."
      ]
    },
    {
      "cell_type": "code",
      "execution_count": null,
      "metadata": {
        "id": "7UKMp82AfpGr"
      },
      "outputs": [],
      "source": [
        "rf_best = RandomForestClassifier(bootstrap=True, criterion='entropy', max_depth=3, max_features='log2', n_estimators=20)"
      ]
    },
    {
      "cell_type": "code",
      "execution_count": null,
      "metadata": {
        "id": "h_LD_slqfpGr",
        "outputId": "f71407ce-ae7b-41a4-9399-68504e22fc2e"
      },
      "outputs": [
        {
          "data": {
            "text/plain": [
              "RandomForestClassifier(criterion='entropy', max_depth=3, max_features='log2',\n",
              "                       n_estimators=20)"
            ]
          },
          "execution_count": 65,
          "metadata": {},
          "output_type": "execute_result"
        }
      ],
      "source": [
        "rf_best.fit(X_train, y_train)"
      ]
    },
    {
      "cell_type": "code",
      "execution_count": null,
      "metadata": {
        "id": "Um2go24TfpGr"
      },
      "outputs": [],
      "source": [
        "new_predictions_rf = rf_best.predict(X_test)"
      ]
    },
    {
      "cell_type": "markdown",
      "metadata": {
        "id": "bCvbgNVVfpGr"
      },
      "source": [
        "**Metricas**\n",
        "\n",
        "Matriz de confusión:\n",
        "\n",
        "True Negative (TN)  |  False positive (FP)   \n",
        "= = = = = = = = = = = = = = = = = = = = =       \n",
        "False negative (FN) | True positive (TP)  \n"
      ]
    },
    {
      "cell_type": "code",
      "execution_count": null,
      "metadata": {
        "id": "YV_Pp2D4fpGr",
        "outputId": "2d1d6ee3-ee4f-44fc-a3a0-7bf2d9416a49"
      },
      "outputs": [
        {
          "data": {
            "image/png": "[encoded data removed]",
            "text/plain": [
              "<Figure size 432x288 with 2 Axes>"
            ]
          },
          "metadata": {
            "needs_background": "light"
          },
          "output_type": "display_data"
        }
      ],
      "source": [
        "plt.figure()\n",
        "random_confusion = confusion_matrix(y_test, new_predictions_rf)\n",
        "sns.heatmap(random_confusion, cmap=\"YlGnBu\",annot=True);"
      ]
    },
    {
      "cell_type": "code",
      "execution_count": null,
      "metadata": {
        "id": "w9Zc0egifpGs",
        "outputId": "128dfcc1-0103-49de-c750-978bebf067db"
      },
      "outputs": [
        {
          "name": "stdout",
          "output_type": "stream",
          "text": [
            "Accuracy: 65.52%\n",
            "Precision: 100.00%\n",
            "Recall: 4.76%\n",
            "F1 score: 9.09%\n"
          ]
        }
      ],
      "source": [
        "print(f\"Accuracy: {accuracy_score(y_test, new_predictions_rf)*100 :.2f}%\")\n",
        "print(f\"Precision: {precision_score(y_test, new_predictions_rf)*100 :.2f}%\")\n",
        "print(f\"Recall: {recall_score(y_test, new_predictions_rf)*100 :.2f}%\")\n",
        "print(f\"F1 score: {f1_score(y_test, new_predictions_rf)*100 :.2f}%\")"
      ]
    },
    {
      "cell_type": "code",
      "execution_count": null,
      "metadata": {
        "id": "o8OOAHi8fpGs",
        "outputId": "63524d10-31e7-4655-9e5b-604069e7869c"
      },
      "outputs": [
        {
          "name": "stdout",
          "output_type": "stream",
          "text": [
            "Variable: deg-malig Importance: 0.24\n",
            "Variable: inv-nodes Importance: 0.2\n",
            "Variable: node-caps Importance: 0.16\n",
            "Variable: tumor-size Importance: 0.12\n",
            "Variable: age Importance: 0.06\n",
            "Variable: breast-quad_left_up Importance: 0.04\n",
            "Variable: breast-quad_right_low Importance: 0.04\n",
            "Variable: irradiat Importance: 0.03\n",
            "Variable: menopause_ge40 Importance: 0.03\n",
            "Variable: menopause_lt40 Importance: 0.01\n",
            "Variable: menopause_premeno Importance: 0.01\n",
            "Variable: breast_left Importance: 0.01\n",
            "Variable: breast_right Importance: 0.01\n",
            "Variable: breast-quad_central Importance: 0.01\n",
            "Variable: breast-quad_left_low Importance: 0.01\n",
            "Variable: breast-quad_right_up Importance: 0.01\n"
          ]
        },
        {
          "data": {
            "image/png": "[encoded data removed]",
            "text/plain": [
              "<Figure size 432x288 with 1 Axes>"
            ]
          },
          "metadata": {
            "needs_background": "light"
          },
          "output_type": "display_data"
        }
      ],
      "source": [
        "feature_importance(rf_best, lista_atributos)"
      ]
    },
    {
      "cell_type": "markdown",
      "metadata": {
        "id": "vzAGR9npfpGs"
      },
      "source": [
        "En este caso, nos importa minimizar los falsos negativos. Por lo tanto, nuestra metrica es Recall. Podemos observar que ninguno de los dos modelos tiene un recall alto y por lo tanto, no serian indicados para poder tomar este modelo como final. Una de las cosas que podriamos hacer es sacar aquellas variables que no son importantes (usando el feature importance) y poder encontrar nuevos parametros para el modelo y re-entrenar el modelo para ver si podemos alcanzar mejores valores."
      ]
    },
    {
      "cell_type": "markdown",
      "metadata": {
        "id": "eqADrxxkfpGs"
      },
      "source": [
        "# Notebook 20\n",
        "### 2) Regresión 1️⃣ 2️⃣"
      ]
    },
    {
      "cell_type": "code",
      "execution_count": null,
      "metadata": {
        "id": "WsL1ZluJfpGs"
      },
      "outputs": [],
      "source": [
        "regresion = pd.read_csv('venta_autos.csv')"
      ]
    },
    {
      "cell_type": "code",
      "execution_count": null,
      "metadata": {
        "id": "vXM8FipvfpGt",
        "outputId": "db7b278d-c65a-40f5-e015-9005597b14ab"
      },
      "outputs": [
        {
          "data": {
            "text/html": [
              "<div>\n",
              "<style scoped>\n",
              "    .dataframe tbody tr th:only-of-type {\n",
              "        vertical-align: middle;\n",
              "    }\n",
              "\n",
              "    .dataframe tbody tr th {\n",
              "        vertical-align: top;\n",
              "    }\n",
              "\n",
              "    .dataframe thead th {\n",
              "        text-align: right;\n",
              "    }\n",
              "</style>\n",
              "<table border=\"1\" class=\"dataframe\">\n",
              "  <thead>\n",
              "    <tr style=\"text-align: right;\">\n",
              "      <th></th>\n",
              "      <th>dateCrawled</th>\n",
              "      <th>name</th>\n",
              "      <th>seller</th>\n",
              "      <th>offerType</th>\n",
              "      <th>price</th>\n",
              "      <th>abtest</th>\n",
              "      <th>vehicleType</th>\n",
              "      <th>yearOfRegistration</th>\n",
              "      <th>gearbox</th>\n",
              "      <th>powerPS</th>\n",
              "      <th>model</th>\n",
              "      <th>kilometer</th>\n",
              "      <th>monthOfRegistration</th>\n",
              "      <th>fuelType</th>\n",
              "      <th>brand</th>\n",
              "      <th>notRepairedDamage</th>\n",
              "      <th>dateCreated</th>\n",
              "      <th>postalCode</th>\n",
              "      <th>lastSeen</th>\n",
              "    </tr>\n",
              "  </thead>\n",
              "  <tbody>\n",
              "    <tr>\n",
              "      <th>0</th>\n",
              "      <td>30/03/2016 13:51</td>\n",
              "      <td>Zu_verkaufen</td>\n",
              "      <td>private</td>\n",
              "      <td>offer</td>\n",
              "      <td>4450</td>\n",
              "      <td>test</td>\n",
              "      <td>limousine</td>\n",
              "      <td>2003</td>\n",
              "      <td>manual</td>\n",
              "      <td>150</td>\n",
              "      <td>3er</td>\n",
              "      <td>150000</td>\n",
              "      <td>3</td>\n",
              "      <td>diesel</td>\n",
              "      <td>bmw</td>\n",
              "      <td>NaN</td>\n",
              "      <td>30/03/2016 0:00</td>\n",
              "      <td>20257</td>\n",
              "      <td>7/4/2016 4:44</td>\n",
              "    </tr>\n",
              "    <tr>\n",
              "      <th>1</th>\n",
              "      <td>7/3/2016 9:54</td>\n",
              "      <td>Volvo_XC90_2.4D_Summum</td>\n",
              "      <td>private</td>\n",
              "      <td>offer</td>\n",
              "      <td>13299</td>\n",
              "      <td>control</td>\n",
              "      <td>suv</td>\n",
              "      <td>2005</td>\n",
              "      <td>manual</td>\n",
              "      <td>163</td>\n",
              "      <td>xc_reihe</td>\n",
              "      <td>150000</td>\n",
              "      <td>6</td>\n",
              "      <td>diesel</td>\n",
              "      <td>volvo</td>\n",
              "      <td>no</td>\n",
              "      <td>7/3/2016 0:00</td>\n",
              "      <td>88045</td>\n",
              "      <td>26/03/2016 13:17</td>\n",
              "    </tr>\n",
              "    <tr>\n",
              "      <th>2</th>\n",
              "      <td>1/4/2016 0:57</td>\n",
              "      <td>Volkswagen_Touran</td>\n",
              "      <td>private</td>\n",
              "      <td>offer</td>\n",
              "      <td>3200</td>\n",
              "      <td>test</td>\n",
              "      <td>bus</td>\n",
              "      <td>2003</td>\n",
              "      <td>manual</td>\n",
              "      <td>101</td>\n",
              "      <td>touran</td>\n",
              "      <td>150000</td>\n",
              "      <td>11</td>\n",
              "      <td>diesel</td>\n",
              "      <td>volkswagen</td>\n",
              "      <td>NaN</td>\n",
              "      <td>31/03/2016 0:00</td>\n",
              "      <td>27449</td>\n",
              "      <td>1/4/2016 8:40</td>\n",
              "    </tr>\n",
              "    <tr>\n",
              "      <th>3</th>\n",
              "      <td>19/03/2016 17:50</td>\n",
              "      <td>Seat_Ibiza_1.4_16V_Reference</td>\n",
              "      <td>private</td>\n",
              "      <td>offer</td>\n",
              "      <td>4500</td>\n",
              "      <td>control</td>\n",
              "      <td>small car</td>\n",
              "      <td>2006</td>\n",
              "      <td>manual</td>\n",
              "      <td>86</td>\n",
              "      <td>ibiza</td>\n",
              "      <td>60000</td>\n",
              "      <td>12</td>\n",
              "      <td>petrol</td>\n",
              "      <td>seat</td>\n",
              "      <td>no</td>\n",
              "      <td>19/03/2016 0:00</td>\n",
              "      <td>34537</td>\n",
              "      <td>7/4/2016 4:44</td>\n",
              "    </tr>\n",
              "    <tr>\n",
              "      <th>4</th>\n",
              "      <td>16/03/2016 14:51</td>\n",
              "      <td>Volvo_XC90_D5_Aut._RDesign_R_Design_AWD_GSHD_S...</td>\n",
              "      <td>private</td>\n",
              "      <td>offer</td>\n",
              "      <td>18750</td>\n",
              "      <td>test</td>\n",
              "      <td>suv</td>\n",
              "      <td>2008</td>\n",
              "      <td>automatic</td>\n",
              "      <td>185</td>\n",
              "      <td>xc_reihe</td>\n",
              "      <td>150000</td>\n",
              "      <td>11</td>\n",
              "      <td>diesel</td>\n",
              "      <td>volvo</td>\n",
              "      <td>no</td>\n",
              "      <td>16/03/2016 0:00</td>\n",
              "      <td>55270</td>\n",
              "      <td>1/4/2016 23:18</td>\n",
              "    </tr>\n",
              "  </tbody>\n",
              "</table>\n",
              "</div>"
            ],
            "text/plain": [
              "        dateCrawled                                               name  \\\n",
              "0  30/03/2016 13:51                                       Zu_verkaufen   \n",
              "1     7/3/2016 9:54                             Volvo_XC90_2.4D_Summum   \n",
              "2     1/4/2016 0:57                                  Volkswagen_Touran   \n",
              "3  19/03/2016 17:50                       Seat_Ibiza_1.4_16V_Reference   \n",
              "4  16/03/2016 14:51  Volvo_XC90_D5_Aut._RDesign_R_Design_AWD_GSHD_S...   \n",
              "\n",
              "    seller offerType  price   abtest vehicleType  yearOfRegistration  \\\n",
              "0  private     offer   4450     test   limousine                2003   \n",
              "1  private     offer  13299  control         suv                2005   \n",
              "2  private     offer   3200     test         bus                2003   \n",
              "3  private     offer   4500  control   small car                2006   \n",
              "4  private     offer  18750     test         suv                2008   \n",
              "\n",
              "     gearbox  powerPS     model  kilometer  monthOfRegistration fuelType  \\\n",
              "0     manual      150       3er     150000                    3   diesel   \n",
              "1     manual      163  xc_reihe     150000                    6   diesel   \n",
              "2     manual      101    touran     150000                   11   diesel   \n",
              "3     manual       86     ibiza      60000                   12   petrol   \n",
              "4  automatic      185  xc_reihe     150000                   11   diesel   \n",
              "\n",
              "        brand notRepairedDamage      dateCreated  postalCode          lastSeen  \n",
              "0         bmw               NaN  30/03/2016 0:00       20257     7/4/2016 4:44  \n",
              "1       volvo                no    7/3/2016 0:00       88045  26/03/2016 13:17  \n",
              "2  volkswagen               NaN  31/03/2016 0:00       27449     1/4/2016 8:40  \n",
              "3        seat                no  19/03/2016 0:00       34537     7/4/2016 4:44  \n",
              "4       volvo                no  16/03/2016 0:00       55270    1/4/2016 23:18  "
            ]
          },
          "execution_count": 71,
          "metadata": {},
          "output_type": "execute_result"
        }
      ],
      "source": [
        "regresion.head()"
      ]
    },
    {
      "cell_type": "markdown",
      "metadata": {
        "id": "nh5m6rgKfpGt"
      },
      "source": [
        "### 🔬 Análisis Exploratorio 🎉"
      ]
    },
    {
      "cell_type": "markdown",
      "metadata": {
        "id": "ynFoy6iYfpGt"
      },
      "source": [
        "¿Cuantas filas y columnas tiene el dataset?"
      ]
    },
    {
      "cell_type": "code",
      "execution_count": null,
      "metadata": {
        "id": "zoO_zLEnfpGt",
        "outputId": "ad5ccc12-6032-4aa1-a528-0976048fdea8"
      },
      "outputs": [
        {
          "data": {
            "text/plain": [
              "(50001, 19)"
            ]
          },
          "execution_count": 72,
          "metadata": {},
          "output_type": "execute_result"
        }
      ],
      "source": [
        "regresion.shape"
      ]
    },
    {
      "cell_type": "markdown",
      "metadata": {
        "id": "LkeAeLTSfpGt"
      },
      "source": [
        "**Numero de columnas**: 19 (atributos)   \n",
        "**Numero de filas**: 50001 (observaciones)"
      ]
    },
    {
      "cell_type": "markdown",
      "metadata": {
        "id": "ve7WDOz1fpGu"
      },
      "source": [
        "¿Cual es el nombre de las columnas contenidas?"
      ]
    },
    {
      "cell_type": "code",
      "execution_count": null,
      "metadata": {
        "id": "w7J9Lk9LfpGu",
        "outputId": "93d9cfe4-7bab-4ca6-f4ce-04994c6aa438"
      },
      "outputs": [
        {
          "data": {
            "text/plain": [
              "Index(['dateCrawled', 'name', 'seller', 'offerType', 'price', 'abtest',\n",
              "       'vehicleType', 'yearOfRegistration', 'gearbox', 'powerPS', 'model',\n",
              "       'kilometer', 'monthOfRegistration', 'fuelType', 'brand',\n",
              "       'notRepairedDamage', 'dateCreated', 'postalCode', 'lastSeen'],\n",
              "      dtype='object')"
            ]
          },
          "execution_count": 73,
          "metadata": {},
          "output_type": "execute_result"
        }
      ],
      "source": [
        "regresion.columns"
      ]
    },
    {
      "cell_type": "markdown",
      "metadata": {
        "id": "kxrvhO2pfpGu"
      },
      "source": [
        "¿Que tipos de datos contiene cada una de las columnas?"
      ]
    },
    {
      "cell_type": "code",
      "execution_count": null,
      "metadata": {
        "id": "kuSV5XdMfpGu",
        "outputId": "1dcda7fb-4a1a-4d81-e5bc-19a924b10530"
      },
      "outputs": [
        {
          "data": {
            "text/plain": [
              "dateCrawled            object\n",
              "name                   object\n",
              "seller                 object\n",
              "offerType              object\n",
              "price                   int64\n",
              "abtest                 object\n",
              "vehicleType            object\n",
              "yearOfRegistration      int64\n",
              "gearbox                object\n",
              "powerPS                 int64\n",
              "model                  object\n",
              "kilometer               int64\n",
              "monthOfRegistration     int64\n",
              "fuelType               object\n",
              "brand                  object\n",
              "notRepairedDamage      object\n",
              "dateCreated            object\n",
              "postalCode              int64\n",
              "lastSeen               object\n",
              "dtype: object"
            ]
          },
          "execution_count": 74,
          "metadata": {},
          "output_type": "execute_result"
        }
      ],
      "source": [
        "regresion.dtypes"
      ]
    },
    {
      "cell_type": "markdown",
      "metadata": {
        "id": "K3Bqlu5bfpGu"
      },
      "source": [
        "### ¿Hay valores faltantes?"
      ]
    },
    {
      "cell_type": "code",
      "execution_count": null,
      "metadata": {
        "id": "ltDgzZL5fpGu",
        "outputId": "52d3187f-cf57-440e-8104-c2eb68457eb1"
      },
      "outputs": [
        {
          "name": "stdout",
          "output_type": "stream",
          "text": [
            "Valores faltantes en cada atributo: \n",
            "dateCrawled               0\n",
            "name                      0\n",
            "seller                    0\n",
            "offerType                 0\n",
            "price                     0\n",
            "abtest                    0\n",
            "vehicleType            5188\n",
            "yearOfRegistration        0\n",
            "gearbox                2824\n",
            "powerPS                   0\n",
            "model                  2758\n",
            "kilometer                 0\n",
            "monthOfRegistration       0\n",
            "fuelType               4503\n",
            "brand                     0\n",
            "notRepairedDamage      9716\n",
            "dateCreated               0\n",
            "postalCode                0\n",
            "lastSeen                  0\n",
            "dtype: int64\n"
          ]
        }
      ],
      "source": [
        "print(f\"Valores faltantes en cada atributo: \\n{regresion.isnull().sum()}\")"
      ]
    },
    {
      "cell_type": "code",
      "execution_count": null,
      "metadata": {
        "id": "6c-OnijAfpGv",
        "outputId": "d43b9643-8504-484e-b50c-e49de9889e42"
      },
      "outputs": [
        {
          "name": "stdout",
          "output_type": "stream",
          "text": [
            "Porcentaje faltantes en cada atributo: \n",
            "dateCrawled             0.000000\n",
            "name                    0.000000\n",
            "seller                  0.000000\n",
            "offerType               0.000000\n",
            "price                   0.000000\n",
            "abtest                  0.000000\n",
            "vehicleType            10.375792\n",
            "yearOfRegistration      0.000000\n",
            "gearbox                 5.647887\n",
            "powerPS                 0.000000\n",
            "model                   5.515890\n",
            "kilometer               0.000000\n",
            "monthOfRegistration     0.000000\n",
            "fuelType                9.005820\n",
            "brand                   0.000000\n",
            "notRepairedDamage      19.431611\n",
            "dateCreated             0.000000\n",
            "postalCode              0.000000\n",
            "lastSeen                0.000000\n",
            "dtype: float64\n"
          ]
        }
      ],
      "source": [
        "print(f\"Porcentaje faltantes en cada atributo: \\n{regresion.isnull().sum() / regresion.shape[0] * 100}\")"
      ]
    },
    {
      "cell_type": "markdown",
      "metadata": {
        "id": "ALk8syCUfpGv"
      },
      "source": [
        "Como podemos ver, hay cinco atributos que tienen bastantes varlores faltantes. Aquí debemos decidir que vamos a hacer con ellos. Comencemos analizando atributo por atributo:\n",
        "\n",
        "1. **notRepairedDamage**"
      ]
    },
    {
      "cell_type": "code",
      "execution_count": null,
      "metadata": {
        "id": "a1u57x4lfpGv",
        "outputId": "2c748318-cb47-4443-979c-a80129b1f8ad"
      },
      "outputs": [
        {
          "data": {
            "image/png": "[encoded data removed]",
            "text/plain": [
              "<Figure size 432x288 with 1 Axes>"
            ]
          },
          "metadata": {
            "needs_background": "light"
          },
          "output_type": "display_data"
        }
      ],
      "source": [
        "sns.countplot(x=regresion['notRepairedDamage'], palette='Set3')\n",
        "plt.xlabel('Dañado', size=14)\n",
        "plt.ylabel('Cantidad de Vehiculos', size=14)\n",
        "\n",
        "no_dañados = f\"{round(regresion['notRepairedDamage'].value_counts()['no']/regresion.shape[0]*100, 2)}%\"\n",
        "dañados = f\"{round(regresion['notRepairedDamage'].value_counts()['yes']/regresion.shape[0]*100, 2)}%\"\n",
        "\n",
        "\n",
        "plt.text(x=-0.1, y=37000, s=no_dañados)\n",
        "plt.text(x=0.9, y=9000, s=dañados)\n",
        "plt.title('Distribución de categorias')\n",
        "plt.ylim(0, 40000)\n",
        "sns.despine()"
      ]
    },
    {
      "cell_type": "markdown",
      "metadata": {
        "id": "PGBAQbPUfpGv"
      },
      "source": [
        "Vemos que la mayoría de los vehículos no estan dañados, y podriamos asumir que los valores faltantes en el dataset son random, eso significa que si faltan es porque me estan diciendo algo de esa variable. Podriamos decir que si no se coloco nada en esa celda, es porque no esta dañado. Así que imputemos los valores de esa manera."
      ]
    },
    {
      "cell_type": "code",
      "execution_count": null,
      "metadata": {
        "id": "-AV_y5wYfpGv"
      },
      "outputs": [],
      "source": [
        "imputer_dañados = SimpleImputer(strategy='constant', fill_value='no')"
      ]
    },
    {
      "cell_type": "code",
      "execution_count": null,
      "metadata": {
        "id": "I-8XgxT1fpGv"
      },
      "outputs": [],
      "source": [
        "regresion.loc[:, 'notRepairedDamage'] = imputer_dañados.fit_transform(regresion[['notRepairedDamage']])"
      ]
    },
    {
      "cell_type": "markdown",
      "metadata": {
        "id": "22g0iqDIfpGv"
      },
      "source": [
        "2. **vehicleType**, **model**, **fuelType**, y **gearbox**"
      ]
    },
    {
      "cell_type": "markdown",
      "metadata": {
        "id": "LR4xqTfOfpGv"
      },
      "source": [
        "Veamos ahora el resto de las variables que tienen datos faltantes, para eso inspeccionemos si hay filas que no tienen datos en estas tres columnas:"
      ]
    },
    {
      "cell_type": "code",
      "execution_count": null,
      "metadata": {
        "id": "9lOa9QsCfpGw",
        "outputId": "c3b696b9-45bb-4af9-cece-d2e3295de2b8"
      },
      "outputs": [
        {
          "data": {
            "text/html": [
              "<div>\n",
              "<style scoped>\n",
              "    .dataframe tbody tr th:only-of-type {\n",
              "        vertical-align: middle;\n",
              "    }\n",
              "\n",
              "    .dataframe tbody tr th {\n",
              "        vertical-align: top;\n",
              "    }\n",
              "\n",
              "    .dataframe thead th {\n",
              "        text-align: right;\n",
              "    }\n",
              "</style>\n",
              "<table border=\"1\" class=\"dataframe\">\n",
              "  <thead>\n",
              "    <tr style=\"text-align: right;\">\n",
              "      <th></th>\n",
              "      <th>dateCrawled</th>\n",
              "      <th>name</th>\n",
              "      <th>seller</th>\n",
              "      <th>offerType</th>\n",
              "      <th>price</th>\n",
              "      <th>abtest</th>\n",
              "      <th>vehicleType</th>\n",
              "      <th>yearOfRegistration</th>\n",
              "      <th>gearbox</th>\n",
              "      <th>powerPS</th>\n",
              "      <th>model</th>\n",
              "      <th>kilometer</th>\n",
              "      <th>monthOfRegistration</th>\n",
              "      <th>fuelType</th>\n",
              "      <th>brand</th>\n",
              "      <th>notRepairedDamage</th>\n",
              "      <th>dateCreated</th>\n",
              "      <th>postalCode</th>\n",
              "      <th>lastSeen</th>\n",
              "    </tr>\n",
              "  </thead>\n",
              "  <tbody>\n",
              "    <tr>\n",
              "      <th>43</th>\n",
              "      <td>10/3/2016 7:55</td>\n",
              "      <td>Daihatsu._Daihatsu</td>\n",
              "      <td>private</td>\n",
              "      <td>offer</td>\n",
              "      <td>0</td>\n",
              "      <td>control</td>\n",
              "      <td>NaN</td>\n",
              "      <td>2000</td>\n",
              "      <td>NaN</td>\n",
              "      <td>45</td>\n",
              "      <td>NaN</td>\n",
              "      <td>100000</td>\n",
              "      <td>0</td>\n",
              "      <td>NaN</td>\n",
              "      <td>daihatsu</td>\n",
              "      <td>no</td>\n",
              "      <td>10/3/2016 0:00</td>\n",
              "      <td>79312</td>\n",
              "      <td>6/4/2016 4:45</td>\n",
              "    </tr>\n",
              "    <tr>\n",
              "      <th>46</th>\n",
              "      <td>26/03/2016 17:52</td>\n",
              "      <td>Familie_mit_drei_Kindern_und_Hund_sucht_Van</td>\n",
              "      <td>private</td>\n",
              "      <td>offer</td>\n",
              "      <td>7000</td>\n",
              "      <td>control</td>\n",
              "      <td>NaN</td>\n",
              "      <td>2007</td>\n",
              "      <td>NaN</td>\n",
              "      <td>110</td>\n",
              "      <td>NaN</td>\n",
              "      <td>100000</td>\n",
              "      <td>0</td>\n",
              "      <td>diesel</td>\n",
              "      <td>sonstige_autos</td>\n",
              "      <td>no</td>\n",
              "      <td>26/03/2016 0:00</td>\n",
              "      <td>9380</td>\n",
              "      <td>6/4/2016 6:46</td>\n",
              "    </tr>\n",
              "    <tr>\n",
              "      <th>60</th>\n",
              "      <td>9/3/2016 20:47</td>\n",
              "      <td>Mercedes_C_180_Automatik</td>\n",
              "      <td>private</td>\n",
              "      <td>offer</td>\n",
              "      <td>1400</td>\n",
              "      <td>test</td>\n",
              "      <td>NaN</td>\n",
              "      <td>2017</td>\n",
              "      <td>NaN</td>\n",
              "      <td>122</td>\n",
              "      <td>NaN</td>\n",
              "      <td>150000</td>\n",
              "      <td>7</td>\n",
              "      <td>petrol</td>\n",
              "      <td>mercedes_benz</td>\n",
              "      <td>no</td>\n",
              "      <td>9/3/2016 0:00</td>\n",
              "      <td>70188</td>\n",
              "      <td>18/03/2016 2:16</td>\n",
              "    </tr>\n",
              "    <tr>\n",
              "      <th>239</th>\n",
              "      <td>10/3/2016 23:44</td>\n",
              "      <td>Guenstiges_auto_gesucht</td>\n",
              "      <td>private</td>\n",
              "      <td>offer</td>\n",
              "      <td>500</td>\n",
              "      <td>test</td>\n",
              "      <td>NaN</td>\n",
              "      <td>2000</td>\n",
              "      <td>NaN</td>\n",
              "      <td>0</td>\n",
              "      <td>NaN</td>\n",
              "      <td>150000</td>\n",
              "      <td>0</td>\n",
              "      <td>NaN</td>\n",
              "      <td>sonstige_autos</td>\n",
              "      <td>no</td>\n",
              "      <td>10/3/2016 0:00</td>\n",
              "      <td>54636</td>\n",
              "      <td>7/4/2016 4:15</td>\n",
              "    </tr>\n",
              "    <tr>\n",
              "      <th>355</th>\n",
              "      <td>3/4/2016 14:36</td>\n",
              "      <td>Hilfe_Hilfe_Hilfe</td>\n",
              "      <td>private</td>\n",
              "      <td>offer</td>\n",
              "      <td>10010011</td>\n",
              "      <td>test</td>\n",
              "      <td>NaN</td>\n",
              "      <td>2000</td>\n",
              "      <td>NaN</td>\n",
              "      <td>0</td>\n",
              "      <td>NaN</td>\n",
              "      <td>150000</td>\n",
              "      <td>0</td>\n",
              "      <td>NaN</td>\n",
              "      <td>sonstige_autos</td>\n",
              "      <td>no</td>\n",
              "      <td>3/4/2016 0:00</td>\n",
              "      <td>44532</td>\n",
              "      <td>5/4/2016 13:18</td>\n",
              "    </tr>\n",
              "    <tr>\n",
              "      <th>...</th>\n",
              "      <td>...</td>\n",
              "      <td>...</td>\n",
              "      <td>...</td>\n",
              "      <td>...</td>\n",
              "      <td>...</td>\n",
              "      <td>...</td>\n",
              "      <td>...</td>\n",
              "      <td>...</td>\n",
              "      <td>...</td>\n",
              "      <td>...</td>\n",
              "      <td>...</td>\n",
              "      <td>...</td>\n",
              "      <td>...</td>\n",
              "      <td>...</td>\n",
              "      <td>...</td>\n",
              "      <td>...</td>\n",
              "      <td>...</td>\n",
              "      <td>...</td>\n",
              "      <td>...</td>\n",
              "    </tr>\n",
              "    <tr>\n",
              "      <th>49798</th>\n",
              "      <td>30/03/2016 22:45</td>\n",
              "      <td>US_Cadillac_Coupe_de_Ville_USA_V8</td>\n",
              "      <td>private</td>\n",
              "      <td>offer</td>\n",
              "      <td>8500</td>\n",
              "      <td>control</td>\n",
              "      <td>NaN</td>\n",
              "      <td>1980</td>\n",
              "      <td>NaN</td>\n",
              "      <td>0</td>\n",
              "      <td>NaN</td>\n",
              "      <td>100000</td>\n",
              "      <td>0</td>\n",
              "      <td>NaN</td>\n",
              "      <td>sonstige_autos</td>\n",
              "      <td>no</td>\n",
              "      <td>30/03/2016 0:00</td>\n",
              "      <td>91352</td>\n",
              "      <td>5/4/2016 13:17</td>\n",
              "    </tr>\n",
              "    <tr>\n",
              "      <th>49815</th>\n",
              "      <td>19/03/2016 8:37</td>\n",
              "      <td>Suche_dringend_Pkw!!!</td>\n",
              "      <td>private</td>\n",
              "      <td>offer</td>\n",
              "      <td>1000</td>\n",
              "      <td>test</td>\n",
              "      <td>NaN</td>\n",
              "      <td>1995</td>\n",
              "      <td>NaN</td>\n",
              "      <td>0</td>\n",
              "      <td>NaN</td>\n",
              "      <td>150000</td>\n",
              "      <td>0</td>\n",
              "      <td>NaN</td>\n",
              "      <td>sonstige_autos</td>\n",
              "      <td>no</td>\n",
              "      <td>19/03/2016 0:00</td>\n",
              "      <td>45964</td>\n",
              "      <td>6/4/2016 7:17</td>\n",
              "    </tr>\n",
              "    <tr>\n",
              "      <th>49848</th>\n",
              "      <td>22/03/2016 23:48</td>\n",
              "      <td>Suche_Auto</td>\n",
              "      <td>private</td>\n",
              "      <td>offer</td>\n",
              "      <td>1</td>\n",
              "      <td>test</td>\n",
              "      <td>NaN</td>\n",
              "      <td>1980</td>\n",
              "      <td>NaN</td>\n",
              "      <td>0</td>\n",
              "      <td>NaN</td>\n",
              "      <td>150000</td>\n",
              "      <td>1</td>\n",
              "      <td>other</td>\n",
              "      <td>sonstige_autos</td>\n",
              "      <td>no</td>\n",
              "      <td>22/03/2016 0:00</td>\n",
              "      <td>44869</td>\n",
              "      <td>27/03/2016 8:17</td>\n",
              "    </tr>\n",
              "    <tr>\n",
              "      <th>49885</th>\n",
              "      <td>16/03/2016 0:38</td>\n",
              "      <td>Reno_master_kombi</td>\n",
              "      <td>private</td>\n",
              "      <td>offer</td>\n",
              "      <td>1240</td>\n",
              "      <td>test</td>\n",
              "      <td>NaN</td>\n",
              "      <td>2000</td>\n",
              "      <td>NaN</td>\n",
              "      <td>0</td>\n",
              "      <td>NaN</td>\n",
              "      <td>150000</td>\n",
              "      <td>0</td>\n",
              "      <td>NaN</td>\n",
              "      <td>renault</td>\n",
              "      <td>no</td>\n",
              "      <td>15/03/2016 0:00</td>\n",
              "      <td>40227</td>\n",
              "      <td>22/03/2016 11:18</td>\n",
              "    </tr>\n",
              "    <tr>\n",
              "      <th>49894</th>\n",
              "      <td>15/03/2016 20:46</td>\n",
              "      <td>Suche_Familienkutsche!!!</td>\n",
              "      <td>private</td>\n",
              "      <td>offer</td>\n",
              "      <td>123456</td>\n",
              "      <td>test</td>\n",
              "      <td>NaN</td>\n",
              "      <td>8888</td>\n",
              "      <td>NaN</td>\n",
              "      <td>0</td>\n",
              "      <td>NaN</td>\n",
              "      <td>10000</td>\n",
              "      <td>0</td>\n",
              "      <td>NaN</td>\n",
              "      <td>sonstige_autos</td>\n",
              "      <td>no</td>\n",
              "      <td>15/03/2016 0:00</td>\n",
              "      <td>37154</td>\n",
              "      <td>7/4/2016 3:15</td>\n",
              "    </tr>\n",
              "  </tbody>\n",
              "</table>\n",
              "<p>440 rows × 19 columns</p>\n",
              "</div>"
            ],
            "text/plain": [
              "            dateCrawled                                         name   seller  \\\n",
              "43       10/3/2016 7:55                           Daihatsu._Daihatsu  private   \n",
              "46     26/03/2016 17:52  Familie_mit_drei_Kindern_und_Hund_sucht_Van  private   \n",
              "60       9/3/2016 20:47                     Mercedes_C_180_Automatik  private   \n",
              "239     10/3/2016 23:44                      Guenstiges_auto_gesucht  private   \n",
              "355      3/4/2016 14:36                            Hilfe_Hilfe_Hilfe  private   \n",
              "...                 ...                                          ...      ...   \n",
              "49798  30/03/2016 22:45            US_Cadillac_Coupe_de_Ville_USA_V8  private   \n",
              "49815   19/03/2016 8:37                        Suche_dringend_Pkw!!!  private   \n",
              "49848  22/03/2016 23:48                                   Suche_Auto  private   \n",
              "49885   16/03/2016 0:38                            Reno_master_kombi  private   \n",
              "49894  15/03/2016 20:46                     Suche_Familienkutsche!!!  private   \n",
              "\n",
              "      offerType     price   abtest vehicleType  yearOfRegistration gearbox  \\\n",
              "43        offer         0  control         NaN                2000     NaN   \n",
              "46        offer      7000  control         NaN                2007     NaN   \n",
              "60        offer      1400     test         NaN                2017     NaN   \n",
              "239       offer       500     test         NaN                2000     NaN   \n",
              "355       offer  10010011     test         NaN                2000     NaN   \n",
              "...         ...       ...      ...         ...                 ...     ...   \n",
              "49798     offer      8500  control         NaN                1980     NaN   \n",
              "49815     offer      1000     test         NaN                1995     NaN   \n",
              "49848     offer         1     test         NaN                1980     NaN   \n",
              "49885     offer      1240     test         NaN                2000     NaN   \n",
              "49894     offer    123456     test         NaN                8888     NaN   \n",
              "\n",
              "       powerPS model  kilometer  monthOfRegistration fuelType           brand  \\\n",
              "43          45   NaN     100000                    0      NaN        daihatsu   \n",
              "46         110   NaN     100000                    0   diesel  sonstige_autos   \n",
              "60         122   NaN     150000                    7   petrol   mercedes_benz   \n",
              "239          0   NaN     150000                    0      NaN  sonstige_autos   \n",
              "355          0   NaN     150000                    0      NaN  sonstige_autos   \n",
              "...        ...   ...        ...                  ...      ...             ...   \n",
              "49798        0   NaN     100000                    0      NaN  sonstige_autos   \n",
              "49815        0   NaN     150000                    0      NaN  sonstige_autos   \n",
              "49848        0   NaN     150000                    1    other  sonstige_autos   \n",
              "49885        0   NaN     150000                    0      NaN         renault   \n",
              "49894        0   NaN      10000                    0      NaN  sonstige_autos   \n",
              "\n",
              "      notRepairedDamage      dateCreated  postalCode          lastSeen  \n",
              "43                   no   10/3/2016 0:00       79312     6/4/2016 4:45  \n",
              "46                   no  26/03/2016 0:00        9380     6/4/2016 6:46  \n",
              "60                   no    9/3/2016 0:00       70188   18/03/2016 2:16  \n",
              "239                  no   10/3/2016 0:00       54636     7/4/2016 4:15  \n",
              "355                  no    3/4/2016 0:00       44532    5/4/2016 13:18  \n",
              "...                 ...              ...         ...               ...  \n",
              "49798                no  30/03/2016 0:00       91352    5/4/2016 13:17  \n",
              "49815                no  19/03/2016 0:00       45964     6/4/2016 7:17  \n",
              "49848                no  22/03/2016 0:00       44869   27/03/2016 8:17  \n",
              "49885                no  15/03/2016 0:00       40227  22/03/2016 11:18  \n",
              "49894                no  15/03/2016 0:00       37154     7/4/2016 3:15  \n",
              "\n",
              "[440 rows x 19 columns]"
            ]
          },
          "execution_count": 80,
          "metadata": {},
          "output_type": "execute_result"
        }
      ],
      "source": [
        "regresion[regresion[['vehicleType', 'model', 'gearbox']].isnull().all(axis=1)]"
      ]
    },
    {
      "cell_type": "markdown",
      "metadata": {
        "id": "b-eXn_mofpGw"
      },
      "source": [
        "Vemos que hay 440 filas donde estas cuatro columnas tienen valores faltantes. Así que comencemos por eliminar estas filas."
      ]
    },
    {
      "cell_type": "code",
      "execution_count": null,
      "metadata": {
        "id": "P51_2IuHfpGw"
      },
      "outputs": [],
      "source": [
        "regresion.dropna(subset=['vehicleType', 'model', 'gearbox'], how='all', inplace=True)"
      ]
    },
    {
      "cell_type": "code",
      "execution_count": null,
      "metadata": {
        "id": "1vxoiupCfpGw",
        "outputId": "e8f627f1-d2d7-40f2-88bc-7afd98ca5939"
      },
      "outputs": [
        {
          "data": {
            "text/plain": [
              "(49561, 19)"
            ]
          },
          "execution_count": 82,
          "metadata": {},
          "output_type": "execute_result"
        }
      ],
      "source": [
        "regresion.shape"
      ]
    },
    {
      "cell_type": "markdown",
      "metadata": {
        "id": "bI-OmchZfpGw"
      },
      "source": [
        "Vemos que hemos eliminado las filas correspondientes. Ahora que estrategia podremos seguir en este caso. Podemos observar que la columna **Name** contiene bastante información de los vehiculos. En muchos de ellos podriamos obtener el modelo de estas filas que faltan (Utilizando regex quizas). Luego podriamos hacer una investigación y poder obtener de otras fuentes que tipo de vehiculo corresponde a esa marca y modelo, y quizás incluso obtener que tipo de caja poseen. Lo mismo para la variable **fuelType**.\n",
        "\n",
        "Obviamente que esto consumiria bastante tiempo, y quizás valga la pena hacerlo para un proyecto real. En este caso, vamos a intentar una estrategia mucho más facil. Como vemos que tenemos más de 49000 observaciones, tomemos como primer camino el de eliminar todas las filas con valores faltantes en estas cuatro columnas."
      ]
    },
    {
      "cell_type": "code",
      "execution_count": null,
      "metadata": {
        "id": "HGR_65jmfpGw"
      },
      "outputs": [],
      "source": [
        "regresion.dropna(subset=['vehicleType', 'model', 'gearbox', 'fuelType'], how='any', inplace=True)"
      ]
    },
    {
      "cell_type": "code",
      "execution_count": null,
      "metadata": {
        "id": "HDecJKO3fpGx",
        "outputId": "f7063c5d-61ef-4b6c-faac-45ec15fa114d"
      },
      "outputs": [
        {
          "data": {
            "text/plain": [
              "(40272, 19)"
            ]
          },
          "execution_count": 84,
          "metadata": {},
          "output_type": "execute_result"
        }
      ],
      "source": [
        "regresion.shape"
      ]
    },
    {
      "cell_type": "markdown",
      "metadata": {
        "id": "FRbht2L6fpGx"
      },
      "source": [
        "Aún eliminando todos las filas con valores faltantes tenemos 40mil observaciones."
      ]
    },
    {
      "cell_type": "markdown",
      "metadata": {
        "id": "AOiF46cXfpGx"
      },
      "source": [
        "### Analisis de los atributos"
      ]
    },
    {
      "cell_type": "markdown",
      "metadata": {
        "id": "_xS0kECtfpGx"
      },
      "source": [
        "Veamos de nuevo que atributos tenemos en este dataset."
      ]
    },
    {
      "cell_type": "code",
      "execution_count": null,
      "metadata": {
        "id": "dIJ1G4jcfpGx",
        "outputId": "48150a54-226b-4598-ebe6-a5cb04d4c77d"
      },
      "outputs": [
        {
          "data": {
            "text/plain": [
              "Index(['dateCrawled', 'name', 'seller', 'offerType', 'price', 'abtest',\n",
              "       'vehicleType', 'yearOfRegistration', 'gearbox', 'powerPS', 'model',\n",
              "       'kilometer', 'monthOfRegistration', 'fuelType', 'brand',\n",
              "       'notRepairedDamage', 'dateCreated', 'postalCode', 'lastSeen'],\n",
              "      dtype='object')"
            ]
          },
          "execution_count": 85,
          "metadata": {},
          "output_type": "execute_result"
        }
      ],
      "source": [
        "regresion.columns"
      ]
    },
    {
      "cell_type": "markdown",
      "metadata": {
        "id": "mabBbn4kfpGx"
      },
      "source": [
        "- El atributo *dateCrawled* nos da información de cuando el dato fue obtenido. Si bien podriamos pensar que si tengo un dataset a lo largo del tiempo no es lo mismo si estos datos fueron obtenidos hoy o hace dos años atrás (ya que probablemente los precios hayan cambiado), podemos por ahora ignorar este atributo. Así también, el atributo *postalCode* puede indicar que el precio varia por localidad. Sin embargo, por ahora no lo incluiremos.\n",
        "\n",
        "- El atributo *name* solo me dice el nombre completo del auto pero esta información, si nos fijamos, resulta redundante con la marca, el modelo y el tipo de vehiculo. Asi que tampoco la usaremos.\n",
        "\n",
        "- Los atributos *dateCreated* y *lastSeen* describen cuando fue creado el anuncio, que tampoco nos brinda información del vehículo."
      ]
    },
    {
      "cell_type": "markdown",
      "metadata": {
        "id": "oLvn6iyHfpGx"
      },
      "source": [
        "1. **seller** y **offerType**"
      ]
    },
    {
      "cell_type": "code",
      "execution_count": null,
      "metadata": {
        "id": "AzHO9LfffpGx",
        "outputId": "f82d60d6-2899-4c37-b94f-2e3bd0c18d4e"
      },
      "outputs": [
        {
          "data": {
            "image/png": "[encoded data removed]",
            "text/plain": [
              "<Figure size 720x360 with 2 Axes>"
            ]
          },
          "metadata": {
            "needs_background": "light"
          },
          "output_type": "display_data"
        }
      ],
      "source": [
        "fig, ax = plt.subplots(1, 2, figsize=(10, 5))\n",
        "\n",
        "# Grafiquemos tipo de vendedor\n",
        "sns.countplot(x=regresion['seller'], palette='rocket', ax=ax[0])\n",
        "ax[0].set_xlabel('Tipo de vendedor', size=14)\n",
        "ax[0].set_ylabel('Cantidad de Vehiculos', size=14)\n",
        "\n",
        "# Grafiquemos tipo de oferta\n",
        "sns.countplot(x=regresion['offerType'], palette='magma', ax=ax[1])\n",
        "ax[1].set_xlabel('Tipo de oferta', size=14)\n",
        "ax[1].set_ylabel('Cantidad de Vehiculos', size=14)\n",
        "\n",
        "sns.despine()"
      ]
    },
    {
      "cell_type": "markdown",
      "metadata": {
        "id": "dhbtSI2KfpGy"
      },
      "source": [
        "Como podemos ver, ambos atributos tienen un 100% de sus valores en una sola categoría, y la otra categoría esta muy poco representada. Por lo que no aporta mucho valor predictivo, incluir estas variables en el modelo."
      ]
    },
    {
      "cell_type": "markdown",
      "metadata": {
        "id": "aS34BPEIfpGy"
      },
      "source": [
        "2. **abtest**"
      ]
    },
    {
      "cell_type": "code",
      "execution_count": null,
      "metadata": {
        "id": "M8TwWdr6fpGy",
        "outputId": "92e33f8f-9f9c-4f82-e268-c9b8fa882816"
      },
      "outputs": [
        {
          "data": {
            "image/png": "[encoded data removed]",
            "text/plain": [
              "<Figure size 432x288 with 1 Axes>"
            ]
          },
          "metadata": {
            "needs_background": "light"
          },
          "output_type": "display_data"
        }
      ],
      "source": [
        "# Grafiquemos tipo de vendedor\n",
        "sns.countplot(x=regresion['abtest'], palette='rocket')\n",
        "plt.xlabel('Categoria en AB testing', size=14)\n",
        "plt.ylabel('Cantidad de Vehiculos', size=14)\n",
        "sns.despine()"
      ]
    },
    {
      "cell_type": "markdown",
      "metadata": {
        "id": "i2pczdDffpGy"
      },
      "source": [
        "Podemos ver que ambas categorias estan igualmente representadas."
      ]
    },
    {
      "cell_type": "markdown",
      "metadata": {
        "id": "hNJ41BIrfpGy"
      },
      "source": [
        "3. **vehicleType** y **brand**"
      ]
    },
    {
      "cell_type": "code",
      "execution_count": null,
      "metadata": {
        "id": "C3P6lv0UfpGy",
        "outputId": "09408b67-d62e-4e46-bb83-1fe8bf84f73f"
      },
      "outputs": [
        {
          "data": {
            "image/png": "[encoded data removed]",
            "text/plain": [
              "<Figure size 1440x360 with 2 Axes>"
            ]
          },
          "metadata": {
            "needs_background": "light"
          },
          "output_type": "display_data"
        }
      ],
      "source": [
        "fig, ax = plt.subplots(1, 2, figsize=(20, 5))\n",
        "\n",
        "# Grafiquemos tipo de vehiculo\n",
        "sns.countplot(x=regresion['vehicleType'], palette='rocket', ax=ax[0])\n",
        "ax[0].set_xlabel('Tipo de vehiculo', size=14)\n",
        "ax[0].set_ylabel('Cantidad de Vehiculos', size=14)\n",
        "\n",
        "# Grafiquemos marca\n",
        "sns.countplot(x=regresion['brand'], palette='winter', ax=ax[1])\n",
        "ax[1].set_xlabel('Marca', size=14)\n",
        "ax[1].set_ylabel('Cantidad de Vehiculos', size=14)\n",
        "ax[1].set_xticklabels(regresion['brand'].unique(), rotation=90)\n",
        "sns.despine()"
      ]
    },
    {
      "cell_type": "markdown",
      "metadata": {
        "id": "CAigjIPffpGy"
      },
      "source": [
        "4. **gearbox** y **fuelType**"
      ]
    },
    {
      "cell_type": "code",
      "execution_count": null,
      "metadata": {
        "id": "5pMkUwtRfpGz",
        "outputId": "36a88651-c19c-4e1f-f459-51260bb8c9c6"
      },
      "outputs": [
        {
          "data": {
            "image/png": "[encoded data removed]",
            "text/plain": [
              "<Figure size 720x360 with 2 Axes>"
            ]
          },
          "metadata": {
            "needs_background": "light"
          },
          "output_type": "display_data"
        }
      ],
      "source": [
        "fig, ax = plt.subplots(1, 2, figsize=(10, 5))\n",
        "\n",
        "# Grafiquemos tipo de vehiculo\n",
        "sns.countplot(x=regresion['gearbox'], palette='rocket', ax=ax[0])\n",
        "ax[0].set_xlabel('Tipo de caja', size=14)\n",
        "ax[0].set_ylabel('Cantidad de Vehiculos', size=14)\n",
        "\n",
        "# Grafiquemos marca\n",
        "sns.countplot(x=regresion['fuelType'], palette='spring', ax=ax[1])\n",
        "ax[1].set_xlabel('Tipo de combustible', size=14)\n",
        "ax[1].set_ylabel('Cantidad de Vehiculos', size=14)\n",
        "sns.despine()"
      ]
    },
    {
      "cell_type": "markdown",
      "metadata": {
        "id": "FLxxsY0-fpGz"
      },
      "source": [
        "5. **yearOfRegistration**"
      ]
    },
    {
      "cell_type": "code",
      "execution_count": null,
      "metadata": {
        "id": "6VMzzkv1fpGz",
        "outputId": "8e2de822-9f53-4baa-a394-0b7f28b6e88d"
      },
      "outputs": [
        {
          "data": {
            "image/png": "[encoded data removed]",
            "text/plain": [
              "<Figure size 720x360 with 2 Axes>"
            ]
          },
          "metadata": {
            "needs_background": "light"
          },
          "output_type": "display_data"
        }
      ],
      "source": [
        "fig, ax = plt.subplots(1, 2, figsize=(10, 5))\n",
        "\n",
        "# histogram\n",
        "sns.histplot(x=regresion['yearOfRegistration'], color='#1ABC9C', kde=True, ax=ax[0])\n",
        "ax[0].set_xlabel('Año del vehículo', size=14)\n",
        "\n",
        "# boxplot\n",
        "sns.boxplot(x=regresion['yearOfRegistration'], color='#1ABC9C', ax=ax[1])\n",
        "ax[1].set_xlabel('Año del vehículo', size=14)\n",
        "\n",
        "sns.despine()"
      ]
    },
    {
      "cell_type": "markdown",
      "metadata": {
        "id": "ZYV__JzNfpGz"
      },
      "source": [
        "6. **kilometer**"
      ]
    },
    {
      "cell_type": "code",
      "execution_count": null,
      "metadata": {
        "id": "CnJYRzZvfpGz",
        "outputId": "596cc893-6284-4056-adb4-54feb4cafb03"
      },
      "outputs": [
        {
          "data": {
            "image/png": "[encoded data removed]",
            "text/plain": [
              "<Figure size 720x360 with 2 Axes>"
            ]
          },
          "metadata": {
            "needs_background": "light"
          },
          "output_type": "display_data"
        }
      ],
      "source": [
        "fig, ax = plt.subplots(1, 2, figsize=(10, 5))\n",
        "\n",
        "# histogram\n",
        "sns.histplot(x=regresion['kilometer'], color='#99549c', kde=True, ax=ax[0])\n",
        "ax[0].set_xlabel('Kilometraje', size=14)\n",
        "\n",
        "labels = sorted(regresion['kilometer'].unique().tolist())\n",
        "ax[0].set_xticks(labels)\n",
        "ax[0].set_xticklabels(labels, rotation=90)\n",
        "\n",
        "# boxplot\n",
        "sns.boxplot(x=regresion['kilometer'], color='#99549c', ax=ax[1])\n",
        "ax[1].set_xlabel('Kilometraje', size=14)\n",
        "\n",
        "sns.despine()"
      ]
    },
    {
      "cell_type": "code",
      "execution_count": null,
      "metadata": {
        "id": "_xJRl11ofpG3",
        "outputId": "a46f5389-312a-4aad-a92c-fa5d2e097909"
      },
      "outputs": [
        {
          "data": {
            "text/plain": [
              "150000    25682\n",
              "125000     4310\n",
              "100000     1735\n",
              "90000      1416\n",
              "80000      1309\n",
              "70000      1125\n",
              "60000      1077\n",
              "50000       891\n",
              "40000       767\n",
              "30000       680\n",
              "20000       619\n",
              "5000        459\n",
              "10000       202\n",
              "Name: kilometer, dtype: int64"
            ]
          },
          "execution_count": 92,
          "metadata": {},
          "output_type": "execute_result"
        }
      ],
      "source": [
        "regresion['kilometer'].value_counts()"
      ]
    },
    {
      "cell_type": "markdown",
      "metadata": {
        "id": "74YBpNZ0fpG3"
      },
      "source": [
        "6. Variable target: **price**"
      ]
    },
    {
      "cell_type": "markdown",
      "metadata": {
        "id": "qfUiUvUAfpG3"
      },
      "source": [
        "Vamos a analizar la distribución de esta variable y su relación con las variables independientes."
      ]
    },
    {
      "cell_type": "code",
      "execution_count": null,
      "metadata": {
        "id": "8OrWmoYifpG3",
        "outputId": "5ee0dbea-35ff-4040-d209-c22ecaca220b"
      },
      "outputs": [
        {
          "data": {
            "image/png": "[encoded data removed]",
            "text/plain": [
              "<Figure size 432x288 with 1 Axes>"
            ]
          },
          "metadata": {
            "needs_background": "light"
          },
          "output_type": "display_data"
        }
      ],
      "source": [
        "# boxplot\n",
        "sns.boxplot(x=regresion['price'], color='#311982')\n",
        "plt.xlabel('Precio del vehículo', size=14)\n",
        "sns.despine()"
      ]
    },
    {
      "cell_type": "code",
      "execution_count": null,
      "metadata": {
        "id": "CsFRl0etfpG4",
        "outputId": "71394ce2-e7c4-4e63-fe49-3be022740d43"
      },
      "outputs": [
        {
          "data": {
            "text/plain": [
              "count    4.027200e+04\n",
              "mean     6.910708e+03\n",
              "std      7.996503e+04\n",
              "min      0.000000e+00\n",
              "25%      1.400000e+03\n",
              "50%      3.500000e+03\n",
              "75%      7.999000e+03\n",
              "max      1.234568e+07\n",
              "Name: price, dtype: float64"
            ]
          },
          "execution_count": 94,
          "metadata": {},
          "output_type": "execute_result"
        }
      ],
      "source": [
        "regresion['price'].describe()"
      ]
    },
    {
      "cell_type": "markdown",
      "metadata": {
        "id": "IVDsMyt-fpG4"
      },
      "source": [
        "Podemos ver que el minimo es 0. Este valor es un valor extraño y a veces complica los modelos de regresión. Veamos cuantas filas tienen este valor  "
      ]
    },
    {
      "cell_type": "code",
      "execution_count": null,
      "metadata": {
        "id": "NcbJG6hAfpG4",
        "outputId": "5eba2e46-269f-4bf9-a6ab-f1541237ff4b"
      },
      "outputs": [
        {
          "data": {
            "text/plain": [
              "654"
            ]
          },
          "execution_count": 95,
          "metadata": {},
          "output_type": "execute_result"
        }
      ],
      "source": [
        "regresion[regresion['price'] == 0]['price'].count()"
      ]
    },
    {
      "cell_type": "markdown",
      "metadata": {
        "id": "k11k_jazfpG4"
      },
      "source": [
        "Una de las cosas que podemos hacer es eliminar los valores iguales a 0."
      ]
    },
    {
      "cell_type": "code",
      "execution_count": null,
      "metadata": {
        "id": "4piCz3BDfpG4"
      },
      "outputs": [],
      "source": [
        "regresion = regresion[regresion['price'] != 0].reset_index(drop=True)"
      ]
    },
    {
      "cell_type": "markdown",
      "metadata": {
        "id": "IJw-TrP3fpG4"
      },
      "source": [
        "Observamos también que hay outliers. Esto dificulta la visualización de nuestros datos sino que podría traer algunas consecuencias en nuestro modelo. Así que vamos a filtrarlos. Lo primero que haremos es visualizar los datos sin los outliers para poder determinar la distribución de nuestra variable target."
      ]
    },
    {
      "cell_type": "code",
      "execution_count": null,
      "metadata": {
        "id": "Zs6IyB7RfpG4",
        "outputId": "d9d97216-fc5f-4240-f351-492cea988f71"
      },
      "outputs": [
        {
          "data": {
            "image/png": "[encoded data removed]",
            "text/plain": [
              "<Figure size 432x288 with 1 Axes>"
            ]
          },
          "metadata": {
            "needs_background": "light"
          },
          "output_type": "display_data"
        }
      ],
      "source": [
        "# boxplot\n",
        "sns.boxplot(x=regresion['price'], color='#311982', showfliers=False)\n",
        "plt.xlabel('Precio del vehículo', size=14)\n",
        "sns.despine()"
      ]
    },
    {
      "cell_type": "markdown",
      "metadata": {
        "id": "9yK53IWNfpG5"
      },
      "source": [
        "Podemos ver que no es una distribución normal. Así que apliquemos el método del rango intercuartil."
      ]
    },
    {
      "cell_type": "code",
      "execution_count": null,
      "metadata": {
        "id": "hDIbCV-zfpG5"
      },
      "outputs": [],
      "source": [
        "q1 = regresion['price'].quantile(0.25)\n",
        "q3 = regresion['price'].quantile(0.75)\n",
        "iqr = q3 - q1\n",
        "lb = q1 - (iqr * 1.5)\n",
        "ub = q3 + (iqr * 1.5)"
      ]
    },
    {
      "cell_type": "code",
      "execution_count": null,
      "metadata": {
        "id": "pETl3zVGfpG5"
      },
      "outputs": [],
      "source": [
        "regresion = regresion[(regresion['price'] > lb) & (regresion['price'] < ub)]"
      ]
    },
    {
      "cell_type": "code",
      "execution_count": null,
      "metadata": {
        "id": "iZKWXDN0fpG5",
        "outputId": "4bb58363-34f8-40e3-aebf-5afb37c82ad0"
      },
      "outputs": [
        {
          "data": {
            "image/png": "[encoded data removed]",
            "text/plain": [
              "<Figure size 720x360 with 2 Axes>"
            ]
          },
          "metadata": {
            "needs_background": "light"
          },
          "output_type": "display_data"
        }
      ],
      "source": [
        "fig, ax = plt.subplots(1, 2, figsize=(10, 5))\n",
        "\n",
        "# histogram\n",
        "sns.histplot(x=regresion['price'], color='#99549c', kde=True, ax=ax[0])\n",
        "ax[0].set_xlabel('Precio', size=14)\n",
        "\n",
        "# boxplot\n",
        "sns.boxplot(x=regresion['price'], color='#99549c', ax=ax[1])\n",
        "ax[1].set_xlabel('Precio', size=14)\n",
        "\n",
        "sns.despine()"
      ]
    },
    {
      "cell_type": "markdown",
      "metadata": {
        "id": "i4Za5oEwfpG5"
      },
      "source": [
        "*Heatmap para ver la correlación entre las variables numericas y el precio*"
      ]
    },
    {
      "cell_type": "code",
      "execution_count": null,
      "metadata": {
        "id": "cb1_2Nc4fpG5",
        "outputId": "bde433bc-dcf3-4b7a-c2c8-f72c3c97f6bc"
      },
      "outputs": [
        {
          "data": {
            "text/html": [
              "<div>\n",
              "<style scoped>\n",
              "    .dataframe tbody tr th:only-of-type {\n",
              "        vertical-align: middle;\n",
              "    }\n",
              "\n",
              "    .dataframe tbody tr th {\n",
              "        vertical-align: top;\n",
              "    }\n",
              "\n",
              "    .dataframe thead th {\n",
              "        text-align: right;\n",
              "    }\n",
              "</style>\n",
              "<table border=\"1\" class=\"dataframe\">\n",
              "  <thead>\n",
              "    <tr style=\"text-align: right;\">\n",
              "      <th></th>\n",
              "      <th>price</th>\n",
              "      <th>yearOfRegistration</th>\n",
              "      <th>powerPS</th>\n",
              "      <th>kilometer</th>\n",
              "      <th>monthOfRegistration</th>\n",
              "    </tr>\n",
              "  </thead>\n",
              "  <tbody>\n",
              "    <tr>\n",
              "      <th>price</th>\n",
              "      <td>1.000000</td>\n",
              "      <td>0.551161</td>\n",
              "      <td>0.144387</td>\n",
              "      <td>-0.357849</td>\n",
              "      <td>0.055971</td>\n",
              "    </tr>\n",
              "    <tr>\n",
              "      <th>yearOfRegistration</th>\n",
              "      <td>0.551161</td>\n",
              "      <td>1.000000</td>\n",
              "      <td>0.054671</td>\n",
              "      <td>-0.318477</td>\n",
              "      <td>0.046544</td>\n",
              "    </tr>\n",
              "    <tr>\n",
              "      <th>powerPS</th>\n",
              "      <td>0.144387</td>\n",
              "      <td>0.054671</td>\n",
              "      <td>1.000000</td>\n",
              "      <td>0.018162</td>\n",
              "      <td>0.012179</td>\n",
              "    </tr>\n",
              "    <tr>\n",
              "      <th>kilometer</th>\n",
              "      <td>-0.357849</td>\n",
              "      <td>-0.318477</td>\n",
              "      <td>0.018162</td>\n",
              "      <td>1.000000</td>\n",
              "      <td>-0.013148</td>\n",
              "    </tr>\n",
              "    <tr>\n",
              "      <th>monthOfRegistration</th>\n",
              "      <td>0.055971</td>\n",
              "      <td>0.046544</td>\n",
              "      <td>0.012179</td>\n",
              "      <td>-0.013148</td>\n",
              "      <td>1.000000</td>\n",
              "    </tr>\n",
              "  </tbody>\n",
              "</table>\n",
              "</div>"
            ],
            "text/plain": [
              "                        price  yearOfRegistration   powerPS  kilometer  \\\n",
              "price                1.000000            0.551161  0.144387  -0.357849   \n",
              "yearOfRegistration   0.551161            1.000000  0.054671  -0.318477   \n",
              "powerPS              0.144387            0.054671  1.000000   0.018162   \n",
              "kilometer           -0.357849           -0.318477  0.018162   1.000000   \n",
              "monthOfRegistration  0.055971            0.046544  0.012179  -0.013148   \n",
              "\n",
              "                     monthOfRegistration  \n",
              "price                           0.055971  \n",
              "yearOfRegistration              0.046544  \n",
              "powerPS                         0.012179  \n",
              "kilometer                      -0.013148  \n",
              "monthOfRegistration             1.000000  "
            ]
          },
          "execution_count": 101,
          "metadata": {},
          "output_type": "execute_result"
        }
      ],
      "source": [
        "correlacion = regresion.select_dtypes(include=['float64', 'int']).drop(['postalCode'], axis=1).corr()\n",
        "correlacion"
      ]
    },
    {
      "cell_type": "code",
      "execution_count": null,
      "metadata": {
        "id": "vw9aXdCUfpG5",
        "outputId": "8d445344-ebd1-4f34-d895-786f16e20bbf"
      },
      "outputs": [
        {
          "data": {
            "image/png": "[encoded data removed]",
            "text/plain": [
              "<Figure size 1152x576 with 2 Axes>"
            ]
          },
          "metadata": {
            "needs_background": "light"
          },
          "output_type": "display_data"
        }
      ],
      "source": [
        "plt.figure(figsize=(16,8))\n",
        "\n",
        "# heatmap\n",
        "sns.heatmap(correlacion, cmap=\"YlGnBu\", annot=True)\n",
        "plt.show()"
      ]
    },
    {
      "cell_type": "markdown",
      "metadata": {
        "id": "GtksvqPRfpG6"
      },
      "source": [
        "Del heatmap, podemos ver que hay una leve correlación negativa (r=-0.36) entre año del vehículo y el kilometraje, lo cual tiene sentido. Así también observamos que el año del vehículo tiene una moderada correlación positiva (r=0.55) con el precio."
      ]
    },
    {
      "cell_type": "markdown",
      "metadata": {
        "id": "Gy1c9uOpfpG6"
      },
      "source": [
        "*Relación entre variables categoricas y precio*"
      ]
    },
    {
      "cell_type": "code",
      "execution_count": null,
      "metadata": {
        "id": "uJRgxT6TfpG6",
        "outputId": "fe94ee6a-dfe0-4acf-c123-8ae101ba349b"
      },
      "outputs": [
        {
          "data": {
            "image/png": "[encoded data removed]",
            "text/plain": [
              "<Figure size 432x288 with 1 Axes>"
            ]
          },
          "metadata": {
            "needs_background": "light"
          },
          "output_type": "display_data"
        }
      ],
      "source": [
        "sns.violinplot(x='abtest', y='price', data=regresion)\n",
        "sns.despine()"
      ]
    },
    {
      "cell_type": "code",
      "execution_count": null,
      "metadata": {
        "id": "JzOAg5mbfpG6",
        "outputId": "a5f8a059-a62a-4a30-c9b2-005ae8e1be8d"
      },
      "outputs": [
        {
          "data": {
            "image/png": "[encoded data removed]",
            "text/plain": [
              "<Figure size 1152x360 with 2 Axes>"
            ]
          },
          "metadata": {
            "needs_background": "light"
          },
          "output_type": "display_data"
        }
      ],
      "source": [
        "fig, ax = plt.subplots(1, 2, figsize=(16, 5))\n",
        "labels = regresion['vehicleType'].unique()\n",
        "\n",
        "# violinplot\n",
        "sns.violinplot(x=\"vehicleType\", y=\"price\", kind=\"swarm\", data=regresion, ax=ax[0], palette='gnuplot')\n",
        "ax[0].set_ylabel('Precio', size=14)\n",
        "ax[0].set_xlabel('Tipo de Vehículo', size=14)\n",
        "ax[0].set_xticklabels(labels, rotation=90)\n",
        "\n",
        "# boxplot\n",
        "sns.boxplot(x='vehicleType', y='price', data=regresion, ax=ax[1], palette='gnuplot')\n",
        "ax[1].set_ylabel('Precio', size=14)\n",
        "ax[1].set_xlabel('Tipo de Vehículo', size=14)\n",
        "ax[1].set_xticklabels(labels, rotation=90)\n",
        "\n",
        "sns.despine()"
      ]
    },
    {
      "cell_type": "code",
      "execution_count": null,
      "metadata": {
        "id": "ZYUj5mTkfpG6",
        "outputId": "1ef4d4b7-97b1-4af2-8870-b1eeeeba2ea5"
      },
      "outputs": [
        {
          "data": {
            "image/png": "[encoded data removed]",
            "text/plain": [
              "<Figure size 1152x576 with 2 Axes>"
            ]
          },
          "metadata": {
            "needs_background": "light"
          },
          "output_type": "display_data"
        }
      ],
      "source": [
        "fig, ax = plt.subplots(1, 2, figsize=(16, 8))\n",
        "\n",
        "# violinplot\n",
        "sns.violinplot(x=\"notRepairedDamage\", y=\"price\", kind=\"swarm\", data=regresion, ax=ax[0], palette='rocket')\n",
        "ax[0].set_ylabel('Precio', size=14)\n",
        "ax[0].set_xlabel('Dañado', size=14)\n",
        "\n",
        "# boxplot\n",
        "sns.boxplot(x='notRepairedDamage', y='price', data=regresion, ax=ax[1], palette='rocket')\n",
        "ax[1].set_xlabel('Dañado', size=14)\n",
        "ax[1].set_ylabel('Precio', size=14)\n",
        "\n",
        "sns.despine()"
      ]
    },
    {
      "cell_type": "code",
      "execution_count": null,
      "metadata": {
        "id": "AVnOeCcFfpG7",
        "outputId": "20b2f58d-74d5-4a87-d4f8-6ce79868d3ac"
      },
      "outputs": [
        {
          "data": {
            "image/png": "[encoded data removed]",
            "text/plain": [
              "<Figure size 1152x576 with 2 Axes>"
            ]
          },
          "metadata": {
            "needs_background": "light"
          },
          "output_type": "display_data"
        }
      ],
      "source": [
        "fig, ax = plt.subplots(1, 2, figsize=(16, 8))\n",
        "\n",
        "# boxplot\n",
        "sns.boxplot(x='fuelType', y='price', data=regresion, ax=ax[0], palette='rocket')\n",
        "ax[0].set_xlabel('Tipo de combustible', size=14)\n",
        "ax[0].set_ylabel('Precio', size=14)\n",
        "\n",
        "# boxplot\n",
        "sns.boxenplot(x='gearbox', y='price', data=regresion, ax=ax[1], palette='rocket')\n",
        "ax[1].set_xlabel('Tipo de caja', size=14)\n",
        "ax[1].set_ylabel('Precio', size=14)\n",
        "\n",
        "sns.despine()"
      ]
    },
    {
      "cell_type": "code",
      "execution_count": null,
      "metadata": {
        "id": "GUSc_H5ffpG7",
        "outputId": "2d3b05f5-b6e9-4da2-a4b4-852cc9171115"
      },
      "outputs": [
        {
          "data": {
            "image/png": "[encoded data removed]",
            "text/plain": [
              "<Figure size 1152x576 with 1 Axes>"
            ]
          },
          "metadata": {
            "needs_background": "light"
          },
          "output_type": "display_data"
        }
      ],
      "source": [
        "plt.figure(figsize=(16, 8))\n",
        "\n",
        "# boxplot\n",
        "sns.boxplot(x='brand', y='price', data=regresion, palette='rocket')\n",
        "plt.xlabel('Marca', size=14)\n",
        "plt.ylabel('Precio', size=14)\n",
        "plt.xticks(rotation=90)\n",
        "sns.despine()"
      ]
    },
    {
      "cell_type": "markdown",
      "metadata": {
        "id": "AWxWhFuSfpG7"
      },
      "source": [
        "De los graficos podemos observar que:   \n",
        "    - `abtest` no parece tener una influencia en el precio   \n",
        "    - Los distintos tipos de vehículos tienen una mediana distinta, como así también, las distintas marcas de autos.   \n",
        "    - El tipo de caja y combustible influye en el precio. Así como también, si el vehículo esta dañado o no.   "
      ]
    },
    {
      "cell_type": "markdown",
      "metadata": {
        "id": "q6pAhg6GfpG7"
      },
      "source": [
        "### 🛠 Procesamiento y transformación de datos 🔧"
      ]
    },
    {
      "cell_type": "markdown",
      "metadata": {
        "id": "ytQ3sW77fpG7"
      },
      "source": [
        "Vamos a transformar ahora los variables:   \n",
        "\n",
        "1. Porqué hay variables categoricas, las convertiremos en variables númericas.\n",
        "           \n",
        " a) Para las variables `vehicleType`, `gearbox`, `brand`, y `fuelType` utilizaremos variables dummies    \n",
        " b) Para `notRepairedDamage` asignaremos 0 si no esta dañado y 1 si lo esta\n",
        "            \n",
        "2. Debido a que entrenaremos un modelo de Support Vector Machine, debemos escalar los valores ya que este modelo trabaja con distancias. Así que utilizaremos `StandardScaler()`. Porque además funciona mejor si nuestra variable tiene una distribución normal, transformaremos también la variable `precio`."
      ]
    },
    {
      "cell_type": "code",
      "execution_count": null,
      "metadata": {
        "id": "Eo6715JwfpG7"
      },
      "outputs": [],
      "source": [
        "from sklearn.preprocessing import StandardScaler"
      ]
    },
    {
      "cell_type": "code",
      "execution_count": null,
      "metadata": {
        "id": "DepWi6f5fpG7"
      },
      "outputs": [],
      "source": [
        "sc_X = StandardScaler()\n",
        "sc_y = StandardScaler()"
      ]
    },
    {
      "cell_type": "code",
      "execution_count": null,
      "metadata": {
        "id": "eG3E2npJfpG8"
      },
      "outputs": [],
      "source": [
        "regresion[['yearOfRegistration', 'powerPS', 'kilometer']] = sc_X.fit_transform(regresion[['yearOfRegistration', 'powerPS', 'kilometer']])"
      ]
    },
    {
      "cell_type": "code",
      "execution_count": null,
      "metadata": {
        "id": "IN2NtkvXfpG8"
      },
      "outputs": [],
      "source": [
        "regresion['price'] = sc_y.fit_transform(regresion[['price']])"
      ]
    },
    {
      "cell_type": "code",
      "execution_count": null,
      "metadata": {
        "id": "3kZDtNOJfpG8"
      },
      "outputs": [],
      "source": [
        "regresion['notRepairedDamage'] = regresion['notRepairedDamage'].apply(lambda x: 0 if x == 'no' else 1)"
      ]
    },
    {
      "cell_type": "code",
      "execution_count": null,
      "metadata": {
        "id": "IXNVZf4WfpG8"
      },
      "outputs": [],
      "source": [
        "regresion = pd.get_dummies(regresion, columns=['vehicleType', 'gearbox', 'brand', 'fuelType'])"
      ]
    },
    {
      "cell_type": "markdown",
      "metadata": {
        "id": "QfOQS2WWfpG8"
      },
      "source": [
        "#### Seleccion de target (y) y variables (X)"
      ]
    },
    {
      "cell_type": "code",
      "execution_count": null,
      "metadata": {
        "id": "0YXA6XyyfpG8"
      },
      "outputs": [],
      "source": [
        "# Elimino aquellas variables que no quiero incluir en el modelo y las guardo en x.\n",
        "x_reg = regresion.drop(['dateCrawled', 'name', 'seller', 'offerType', 'monthOfRegistration',\n",
        "                        'dateCreated', 'postalCode', 'lastSeen', 'price', 'abtest', 'model'], axis=1)"
      ]
    },
    {
      "cell_type": "code",
      "execution_count": null,
      "metadata": {
        "id": "wAhGqBCKfpG8",
        "outputId": "8c7f9629-592d-46e3-b4ad-2b64ed1f9931"
      },
      "outputs": [
        {
          "data": {
            "text/html": [
              "<div>\n",
              "<style scoped>\n",
              "    .dataframe tbody tr th:only-of-type {\n",
              "        vertical-align: middle;\n",
              "    }\n",
              "\n",
              "    .dataframe tbody tr th {\n",
              "        vertical-align: top;\n",
              "    }\n",
              "\n",
              "    .dataframe thead th {\n",
              "        text-align: right;\n",
              "    }\n",
              "</style>\n",
              "<table border=\"1\" class=\"dataframe\">\n",
              "  <thead>\n",
              "    <tr style=\"text-align: right;\">\n",
              "      <th></th>\n",
              "      <th>yearOfRegistration</th>\n",
              "      <th>powerPS</th>\n",
              "      <th>kilometer</th>\n",
              "      <th>notRepairedDamage</th>\n",
              "      <th>vehicleType_bus</th>\n",
              "      <th>vehicleType_cabrio</th>\n",
              "      <th>vehicleType_coupe</th>\n",
              "      <th>vehicleType_limousine</th>\n",
              "      <th>vehicleType_others</th>\n",
              "      <th>vehicleType_small car</th>\n",
              "      <th>...</th>\n",
              "      <th>brand_trabant</th>\n",
              "      <th>brand_volkswagen</th>\n",
              "      <th>brand_volvo</th>\n",
              "      <th>fuelType_cng</th>\n",
              "      <th>fuelType_diesel</th>\n",
              "      <th>fuelType_electro</th>\n",
              "      <th>fuelType_hybrid</th>\n",
              "      <th>fuelType_lpg</th>\n",
              "      <th>fuelType_other</th>\n",
              "      <th>fuelType_petrol</th>\n",
              "    </tr>\n",
              "  </thead>\n",
              "  <tbody>\n",
              "    <tr>\n",
              "      <th>0</th>\n",
              "      <td>0.079456</td>\n",
              "      <td>0.165452</td>\n",
              "      <td>0.578325</td>\n",
              "      <td>0</td>\n",
              "      <td>0</td>\n",
              "      <td>0</td>\n",
              "      <td>0</td>\n",
              "      <td>1</td>\n",
              "      <td>0</td>\n",
              "      <td>0</td>\n",
              "      <td>...</td>\n",
              "      <td>0</td>\n",
              "      <td>0</td>\n",
              "      <td>0</td>\n",
              "      <td>0</td>\n",
              "      <td>1</td>\n",
              "      <td>0</td>\n",
              "      <td>0</td>\n",
              "      <td>0</td>\n",
              "      <td>0</td>\n",
              "      <td>0</td>\n",
              "    </tr>\n",
              "    <tr>\n",
              "      <th>1</th>\n",
              "      <td>0.412251</td>\n",
              "      <td>0.231273</td>\n",
              "      <td>0.578325</td>\n",
              "      <td>0</td>\n",
              "      <td>0</td>\n",
              "      <td>0</td>\n",
              "      <td>0</td>\n",
              "      <td>0</td>\n",
              "      <td>0</td>\n",
              "      <td>0</td>\n",
              "      <td>...</td>\n",
              "      <td>0</td>\n",
              "      <td>0</td>\n",
              "      <td>1</td>\n",
              "      <td>0</td>\n",
              "      <td>1</td>\n",
              "      <td>0</td>\n",
              "      <td>0</td>\n",
              "      <td>0</td>\n",
              "      <td>0</td>\n",
              "      <td>0</td>\n",
              "    </tr>\n",
              "    <tr>\n",
              "      <th>2</th>\n",
              "      <td>0.079456</td>\n",
              "      <td>-0.082644</td>\n",
              "      <td>0.578325</td>\n",
              "      <td>0</td>\n",
              "      <td>1</td>\n",
              "      <td>0</td>\n",
              "      <td>0</td>\n",
              "      <td>0</td>\n",
              "      <td>0</td>\n",
              "      <td>0</td>\n",
              "      <td>...</td>\n",
              "      <td>0</td>\n",
              "      <td>1</td>\n",
              "      <td>0</td>\n",
              "      <td>0</td>\n",
              "      <td>1</td>\n",
              "      <td>0</td>\n",
              "      <td>0</td>\n",
              "      <td>0</td>\n",
              "      <td>0</td>\n",
              "      <td>0</td>\n",
              "    </tr>\n",
              "    <tr>\n",
              "      <th>3</th>\n",
              "      <td>0.578648</td>\n",
              "      <td>-0.158591</td>\n",
              "      <td>-1.929045</td>\n",
              "      <td>0</td>\n",
              "      <td>0</td>\n",
              "      <td>0</td>\n",
              "      <td>0</td>\n",
              "      <td>0</td>\n",
              "      <td>0</td>\n",
              "      <td>1</td>\n",
              "      <td>...</td>\n",
              "      <td>0</td>\n",
              "      <td>0</td>\n",
              "      <td>0</td>\n",
              "      <td>0</td>\n",
              "      <td>0</td>\n",
              "      <td>0</td>\n",
              "      <td>0</td>\n",
              "      <td>0</td>\n",
              "      <td>0</td>\n",
              "      <td>1</td>\n",
              "    </tr>\n",
              "    <tr>\n",
              "      <th>5</th>\n",
              "      <td>-1.251724</td>\n",
              "      <td>-0.138339</td>\n",
              "      <td>0.578325</td>\n",
              "      <td>0</td>\n",
              "      <td>0</td>\n",
              "      <td>0</td>\n",
              "      <td>0</td>\n",
              "      <td>1</td>\n",
              "      <td>0</td>\n",
              "      <td>0</td>\n",
              "      <td>...</td>\n",
              "      <td>0</td>\n",
              "      <td>1</td>\n",
              "      <td>0</td>\n",
              "      <td>0</td>\n",
              "      <td>0</td>\n",
              "      <td>0</td>\n",
              "      <td>0</td>\n",
              "      <td>0</td>\n",
              "      <td>0</td>\n",
              "      <td>1</td>\n",
              "    </tr>\n",
              "  </tbody>\n",
              "</table>\n",
              "<p>5 rows × 60 columns</p>\n",
              "</div>"
            ],
            "text/plain": [
              "   yearOfRegistration   powerPS  kilometer  notRepairedDamage  \\\n",
              "0            0.079456  0.165452   0.578325                  0   \n",
              "1            0.412251  0.231273   0.578325                  0   \n",
              "2            0.079456 -0.082644   0.578325                  0   \n",
              "3            0.578648 -0.158591  -1.929045                  0   \n",
              "5           -1.251724 -0.138339   0.578325                  0   \n",
              "\n",
              "   vehicleType_bus  vehicleType_cabrio  vehicleType_coupe  \\\n",
              "0                0                   0                  0   \n",
              "1                0                   0                  0   \n",
              "2                1                   0                  0   \n",
              "3                0                   0                  0   \n",
              "5                0                   0                  0   \n",
              "\n",
              "   vehicleType_limousine  vehicleType_others  vehicleType_small car  ...  \\\n",
              "0                      1                   0                      0  ...   \n",
              "1                      0                   0                      0  ...   \n",
              "2                      0                   0                      0  ...   \n",
              "3                      0                   0                      1  ...   \n",
              "5                      1                   0                      0  ...   \n",
              "\n",
              "   brand_trabant  brand_volkswagen  brand_volvo  fuelType_cng  \\\n",
              "0              0                 0            0             0   \n",
              "1              0                 0            1             0   \n",
              "2              0                 1            0             0   \n",
              "3              0                 0            0             0   \n",
              "5              0                 1            0             0   \n",
              "\n",
              "   fuelType_diesel  fuelType_electro  fuelType_hybrid  fuelType_lpg  \\\n",
              "0                1                 0                0             0   \n",
              "1                1                 0                0             0   \n",
              "2                1                 0                0             0   \n",
              "3                0                 0                0             0   \n",
              "5                0                 0                0             0   \n",
              "\n",
              "   fuelType_other  fuelType_petrol  \n",
              "0               0                0  \n",
              "1               0                0  \n",
              "2               0                0  \n",
              "3               0                1  \n",
              "5               0                1  \n",
              "\n",
              "[5 rows x 60 columns]"
            ]
          },
          "execution_count": 115,
          "metadata": {},
          "output_type": "execute_result"
        }
      ],
      "source": [
        "x_reg.head()"
      ]
    },
    {
      "cell_type": "code",
      "execution_count": null,
      "metadata": {
        "id": "VySL1EsJfpG8"
      },
      "outputs": [],
      "source": [
        "lista_atributos_reg = x_reg.columns"
      ]
    },
    {
      "cell_type": "code",
      "execution_count": null,
      "metadata": {
        "id": "1_oK3IVIfpG9"
      },
      "outputs": [],
      "source": [
        "# Ahora selecciono las etiquetas y las guardo en y.\n",
        "y_reg = regresion['price']"
      ]
    },
    {
      "cell_type": "code",
      "execution_count": null,
      "metadata": {
        "id": "n8Qa-zcqfpG9",
        "outputId": "77b8ab07-fd52-4a19-cbb4-2e391628395a"
      },
      "outputs": [
        {
          "data": {
            "text/plain": [
              "0   -0.045365\n",
              "1    2.064509\n",
              "2   -0.343404\n",
              "3   -0.033444\n",
              "5   -0.870813\n",
              "Name: price, dtype: float64"
            ]
          },
          "execution_count": 118,
          "metadata": {},
          "output_type": "execute_result"
        }
      ],
      "source": [
        "y_reg.head()"
      ]
    },
    {
      "cell_type": "code",
      "execution_count": null,
      "metadata": {
        "id": "d04fmSCUfpG9"
      },
      "outputs": [],
      "source": [
        "x_reg, y_reg = np.array(x_reg), np.array(y_reg)"
      ]
    },
    {
      "cell_type": "markdown",
      "metadata": {
        "id": "tc6YoByMfpG9"
      },
      "source": [
        "#### Separando Train / Test"
      ]
    },
    {
      "cell_type": "code",
      "execution_count": null,
      "metadata": {
        "id": "Qc-9oAyOfpG9"
      },
      "outputs": [],
      "source": [
        "X_train_r, X_test_r, y_train_r, y_test_r = train_test_split(x_reg, y_reg, test_size=0.2,\n",
        "                                                    random_state=42)"
      ]
    },
    {
      "cell_type": "code",
      "execution_count": null,
      "metadata": {
        "id": "tI3gvP7tfpG9",
        "outputId": "643f1f14-b136-4f24-d723-528e1293f868"
      },
      "outputs": [
        {
          "data": {
            "text/plain": [
              "(29394, 60)"
            ]
          },
          "execution_count": 121,
          "metadata": {},
          "output_type": "execute_result"
        }
      ],
      "source": [
        "X_train_r.shape"
      ]
    },
    {
      "cell_type": "code",
      "execution_count": null,
      "metadata": {
        "id": "WLGqXJ6-fpG9",
        "outputId": "9a1c7b3d-5a61-4c8a-9ca4-2bf1c3ec2ba0"
      },
      "outputs": [
        {
          "data": {
            "text/plain": [
              "(7349, 60)"
            ]
          },
          "execution_count": 122,
          "metadata": {},
          "output_type": "execute_result"
        }
      ],
      "source": [
        "X_test_r.shape"
      ]
    },
    {
      "cell_type": "markdown",
      "metadata": {
        "id": "BSy76UYMfpG9"
      },
      "source": [
        "### Modelos"
      ]
    },
    {
      "cell_type": "code",
      "execution_count": null,
      "metadata": {
        "id": "gkDrHVs2fpG-"
      },
      "outputs": [],
      "source": [
        "from sklearn.svm import SVR"
      ]
    },
    {
      "cell_type": "code",
      "execution_count": null,
      "metadata": {
        "id": "V6JjWFMkfpG-"
      },
      "outputs": [],
      "source": [
        "from sklearn.metrics import mean_absolute_error, mean_squared_error, r2_score"
      ]
    },
    {
      "cell_type": "code",
      "execution_count": null,
      "metadata": {
        "id": "CmOtw5BvfpG-"
      },
      "outputs": [],
      "source": [
        "from numpy.lib.scimath import sqrt"
      ]
    },
    {
      "cell_type": "markdown",
      "metadata": {
        "id": "6PoUsXULfpG-"
      },
      "source": [
        "### Support Vector Machine"
      ]
    },
    {
      "cell_type": "markdown",
      "metadata": {
        "id": "LIhfrh6VfpG-"
      },
      "source": [
        "¿Por qué elegir Support Vector Machine?\n",
        "\n",
        "- Es un algoritmo muy efectivo cuando trabajamos con datasets de alta dimensión.\n",
        "\n",
        "- Es eficiente y esto permite trabajar con un dataset de muchas observaciones que además tiene muchos atributos\n",
        "\n",
        "- Nos permite utilizar Kernels lo que lo hace muy versatil.\n",
        "\n",
        "\n",
        "¿Qúe hiperparametro podemos optimizar?\n",
        "\n",
        "`C`: Es el parámetro de regularización. Es la penalización que se usa. Indica que balance queremos lograr entre el error de entrenamiento y de testeo. Pueden leer más [acá](https://towardsdatascience.com/hyperparameter-tuning-for-support-vector-machines-c-and-gamma-parameters-6a5097416167).   \n",
        "\n",
        "`kernel`: especifica el tipo de kernel que se utilizará en el algoritmo.\n",
        "\n",
        "`gamma`: es el coeficiente que se utiliza sólo para los kernel para \"rbf\", y \"sigmoide\". Leer más [acá](https://towardsdatascience.com/hyperparameter-tuning-for-support-vector-machines-c-and-gamma-parameters-6a5097416167)."
      ]
    },
    {
      "cell_type": "markdown",
      "metadata": {
        "id": "VttpLSukfpG_"
      },
      "source": [
        "⚠️ **La búsqueda de parametros para Support Vector Machine toma aproximadamente 50-55 minutos para 27 modelos con una validación cruzada de 3-fold**"
      ]
    },
    {
      "cell_type": "code",
      "execution_count": null,
      "metadata": {
        "id": "wkRTC32PfpG_"
      },
      "outputs": [],
      "source": [
        "svr = SVR()"
      ]
    },
    {
      "cell_type": "code",
      "execution_count": null,
      "metadata": {
        "id": "ejWwxs-KfpG_"
      },
      "outputs": [],
      "source": [
        "param_grid = { 'C':[0.1, 1, 100],\n",
        "              'kernel':['rbf', 'sigmoid', 'linear'],\n",
        "              'gamma': [1, 0.1, 0.01]}"
      ]
    },
    {
      "cell_type": "code",
      "execution_count": null,
      "metadata": {
        "id": "6EQ_k-h9fpG_"
      },
      "outputs": [],
      "source": [
        "svc_search = GridSearchCV(estimator=svr, param_grid=param_grid, cv=3, verbose=2, n_jobs=-1)"
      ]
    },
    {
      "cell_type": "code",
      "execution_count": null,
      "metadata": {
        "id": "Ggv3lIhzfpG_",
        "outputId": "c0a4362b-c00c-495e-9d83-02d75ca587a3"
      },
      "outputs": [
        {
          "name": "stdout",
          "output_type": "stream",
          "text": [
            "Fitting 3 folds for each of 27 candidates, totalling 81 fits\n"
          ]
        },
        {
          "name": "stderr",
          "output_type": "stream",
          "text": [
            "[Parallel(n_jobs=-1)]: Using backend LokyBackend with 12 concurrent workers.\n",
            "[Parallel(n_jobs=-1)]: Done  17 tasks      | elapsed:  3.9min\n",
            "[Parallel(n_jobs=-1)]: Done  81 out of  81 | elapsed: 44.4min finished\n"
          ]
        },
        {
          "data": {
            "text/plain": [
              "GridSearchCV(cv=3, estimator=SVR(), n_jobs=-1,\n",
              "             param_grid={'C': [0.1, 1, 100], 'gamma': [1, 0.1, 0.01],\n",
              "                         'kernel': ['rbf', 'sigmoid', 'linear']},\n",
              "             verbose=2)"
            ]
          },
          "execution_count": 129,
          "metadata": {},
          "output_type": "execute_result"
        }
      ],
      "source": [
        "svc_search.fit(X_train_r, y_train_r)"
      ]
    },
    {
      "cell_type": "code",
      "execution_count": null,
      "metadata": {
        "id": "G_MkgTXxfpG_",
        "outputId": "a9235a00-4d5a-4f81-888f-d0f202c6fb55"
      },
      "outputs": [
        {
          "data": {
            "text/plain": [
              "{'C': 1, 'gamma': 0.1, 'kernel': 'rbf'}"
            ]
          },
          "execution_count": 130,
          "metadata": {},
          "output_type": "execute_result"
        }
      ],
      "source": [
        "svc_search.best_params_"
      ]
    },
    {
      "cell_type": "code",
      "execution_count": null,
      "metadata": {
        "id": "vhKB_cUxfpG_"
      },
      "outputs": [],
      "source": [
        "mejor_svc = SVR(C=1, kernel='rbf', gamma=0.1)"
      ]
    },
    {
      "cell_type": "code",
      "execution_count": null,
      "metadata": {
        "id": "RBH8dMPCfpG_",
        "outputId": "7d775cfe-dfc9-485a-d6f9-4b524b04b3fc"
      },
      "outputs": [
        {
          "data": {
            "text/plain": [
              "SVR(C=1, gamma=0.1)"
            ]
          },
          "execution_count": 132,
          "metadata": {},
          "output_type": "execute_result"
        }
      ],
      "source": [
        "mejor_svc.fit(X_train_r, y_train_r)"
      ]
    },
    {
      "cell_type": "markdown",
      "metadata": {
        "id": "Sq0kw9aufpHA"
      },
      "source": [
        "#### Evaluación del modelo"
      ]
    },
    {
      "cell_type": "code",
      "execution_count": null,
      "metadata": {
        "id": "tdhFi6K7fpHA"
      },
      "outputs": [],
      "source": [
        "predicciones_svc = mejor_svc.predict(X_test_r)"
      ]
    },
    {
      "cell_type": "code",
      "execution_count": null,
      "metadata": {
        "id": "xmyhvqQgfpHA"
      },
      "outputs": [],
      "source": [
        "training_pred_svc = mejor_svc.predict(X_train_r)"
      ]
    },
    {
      "cell_type": "markdown",
      "metadata": {
        "id": "POS4okSffpHA"
      },
      "source": [
        "Recuerden que hicimos una transformación del precio, utilizando StandardScaler. Por lo cual, para poder tener una mejor\n",
        "idea del error debemos volver la variable precio (predicha y real) a su rango original. Eso se hace utilizando el metodo `inverse_transform`."
      ]
    },
    {
      "cell_type": "code",
      "execution_count": null,
      "metadata": {
        "id": "E-AORIRGfpHA"
      },
      "outputs": [],
      "source": [
        "# test\n",
        "or_pred_test = sc_y.inverse_transform(predicciones_svc)\n",
        "or_values_test = sc_y.inverse_transform(y_test_r)\n",
        "# training\n",
        "or_pred_train = sc_y.inverse_transform(training_pred_svc)\n",
        "or_values_train = sc_y.inverse_transform(y_train_r)"
      ]
    },
    {
      "cell_type": "code",
      "execution_count": null,
      "metadata": {
        "id": "MgWEIiwXfpHA",
        "outputId": "a7b634e0-eaee-40ba-b0f7-e5b049c6f9a4"
      },
      "outputs": [
        {
          "data": {
            "text/plain": [
              "1057.3145240735528"
            ]
          },
          "execution_count": 136,
          "metadata": {},
          "output_type": "execute_result"
        }
      ],
      "source": [
        "mean_absolute_error(or_values_test, or_pred_test)"
      ]
    },
    {
      "cell_type": "code",
      "execution_count": null,
      "metadata": {
        "id": "d4huanirfpHA",
        "outputId": "cf2ce92e-b8ff-4fc4-e752-2b55b18f54de"
      },
      "outputs": [
        {
          "data": {
            "text/plain": [
              "1003.6108864581863"
            ]
          },
          "execution_count": 137,
          "metadata": {},
          "output_type": "execute_result"
        }
      ],
      "source": [
        "mean_absolute_error(or_values_train, or_pred_train)"
      ]
    },
    {
      "cell_type": "markdown",
      "metadata": {
        "id": "zBLKOsDOfpHA"
      },
      "source": [
        "Vamos a graficar el MAE:"
      ]
    },
    {
      "cell_type": "code",
      "execution_count": null,
      "metadata": {
        "id": "l_79lQAqfpHB",
        "outputId": "7dfdb379-093b-425b-9a1f-31eaf9b7785f"
      },
      "outputs": [
        {
          "data": {
            "image/png": "[encoded data removed]",
            "text/plain": [
              "<Figure size 720x360 with 1 Axes>"
            ]
          },
          "metadata": {
            "needs_background": "light"
          },
          "output_type": "display_data"
        }
      ],
      "source": [
        "plt.figure(figsize=(10, 5))\n",
        "sns.histplot(x=np.abs(or_values_test - or_pred_test), color='#ccde92', kde=True)\n",
        "plt.xlabel('Error absoluto medio', size=14)\n",
        "sns.despine()"
      ]
    },
    {
      "cell_type": "code",
      "execution_count": null,
      "metadata": {
        "id": "yxsQXYjzfpHB",
        "outputId": "f48e1de1-c4ee-4d3a-defc-2db4b129cda9"
      },
      "outputs": [
        {
          "data": {
            "text/plain": [
              "632.6243464692684"
            ]
          },
          "execution_count": 146,
          "metadata": {},
          "output_type": "execute_result"
        }
      ],
      "source": [
        "np.median(np.abs(or_values_test - or_pred_test))"
      ]
    },
    {
      "cell_type": "code",
      "execution_count": null,
      "metadata": {
        "id": "17Oao-PJfpHB",
        "outputId": "04ce3657-864d-4418-f15a-161aee39c851"
      },
      "outputs": [
        {
          "data": {
            "text/plain": [
              "1682.4897314695413"
            ]
          },
          "execution_count": 141,
          "metadata": {},
          "output_type": "execute_result"
        }
      ],
      "source": [
        "sqrt(mean_squared_error(or_values_test, or_pred_test))"
      ]
    },
    {
      "cell_type": "code",
      "execution_count": null,
      "metadata": {
        "id": "R1A2Wt0PfpHB",
        "outputId": "41ba9887-c75a-41c6-a1c3-0d4346d11263"
      },
      "outputs": [
        {
          "data": {
            "text/plain": [
              "1682.4897314695413"
            ]
          },
          "execution_count": 142,
          "metadata": {},
          "output_type": "execute_result"
        }
      ],
      "source": [
        "sqrt(mean_squared_error(or_values_test, or_pred_test))"
      ]
    },
    {
      "cell_type": "code",
      "execution_count": null,
      "metadata": {
        "id": "wsE9XTg3fpHB",
        "outputId": "a00362b0-0483-4dc3-80d6-672632fc49b0"
      },
      "outputs": [
        {
          "data": {
            "text/plain": [
              "0.8425572161853901"
            ]
          },
          "execution_count": 143,
          "metadata": {},
          "output_type": "execute_result"
        }
      ],
      "source": [
        "r2_score(or_values_test, or_pred_test)"
      ]
    },
    {
      "cell_type": "code",
      "execution_count": null,
      "metadata": {
        "id": "OXTe77usfpHB",
        "outputId": "dbe687c8-b6de-4bad-a19b-dfb4a2d02685"
      },
      "outputs": [
        {
          "data": {
            "text/plain": [
              "0.8172603738956963"
            ]
          },
          "execution_count": 144,
          "metadata": {},
          "output_type": "execute_result"
        }
      ],
      "source": [
        "r2_score(or_pred_train, or_values_train)"
      ]
    },
    {
      "cell_type": "markdown",
      "metadata": {
        "id": "pFDYPebGfpHB"
      },
      "source": [
        "El rango de los precios es de 0-17890. El MAE indica que el modelo predice con un error de +- 1000, la mediana del error absoluto medio, en cambio es de 600. El R^2 se encuentra en valores aproximadamente de 0.8, lo cual indica que la variabilidad en los precios es explicada por las variables independientes en gran medida. Si evaluamos los errores podremos ver que el MAE es muy similar entre entrenamiento y testeo, lo cual da la idea que el modelo no esta sufriendo de sobreajuste (overfitting)."
      ]
    }
  ],
  "metadata": {
    "kernelspec": {
      "display_name": "Python 3 (ipykernel)",
      "language": "python",
      "name": "python3"
    },
    "language_info": {
      "codemirror_mode": {
        "name": "ipython",
        "version": 3
      },
      "file_extension": ".py",
      "mimetype": "text/x-python",
      "name": "python",
      "nbconvert_exporter": "python",
      "pygments_lexer": "ipython3",
      "version": "3.9.6"
    },
    "colab": {
      "provenance": [],
      "collapsed_sections": [
        "_h5WBhb0fpGg",
        "WcCKfE4AfpGj",
        "A3CCqGwDfpGk",
        "B6jRxVhNfpGl",
        "dt3-xagAfpGl",
        "vUxD4RAAfpGq",
        "nh5m6rgKfpGt",
        "K3Bqlu5bfpGu",
        "AOiF46cXfpGx",
        "q6pAhg6GfpG7",
        "QfOQS2WWfpG8",
        "tc6YoByMfpG9",
        "BSy76UYMfpG9",
        "6PoUsXULfpG-",
        "Sq0kw9aufpHA"
      ]
    }
  },
  "nbformat": 4,
  "nbformat_minor": 0
}